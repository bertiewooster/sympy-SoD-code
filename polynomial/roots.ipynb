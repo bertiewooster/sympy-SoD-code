{
 "cells": [
  {
   "cell_type": "code",
   "execution_count": 1,
   "metadata": {},
   "outputs": [
    {
     "data": {
      "text/plain": [
       "{b: 1, -a: 2}"
      ]
     },
     "execution_count": 1,
     "metadata": {},
     "output_type": "execute_result"
    }
   ],
   "source": [
    "from sympy import solve, roots, nroots, real_roots\n",
    "from sympy.abc import x, a, b\n",
    "roots((x+a)**2 * (x-b), x)"
   ]
  }
 ],
 "metadata": {
  "kernelspec": {
   "display_name": "Python 3.9.7",
   "language": "python",
   "name": "python3"
  },
  "language_info": {
   "codemirror_mode": {
    "name": "ipython",
    "version": 3
   },
   "file_extension": ".py",
   "mimetype": "text/x-python",
   "name": "python",
   "nbconvert_exporter": "python",
   "pygments_lexer": "ipython3",
   "version": "3.9.7"
  },
  "orig_nbformat": 4,
  "vscode": {
   "interpreter": {
    "hash": "a805e4787fe41e208b9e9ee3ee0be5f857b11e5edac61fba9adbad0693aa92c1"
   }
  }
 },
 "nbformat": 4,
 "nbformat_minor": 2
}
