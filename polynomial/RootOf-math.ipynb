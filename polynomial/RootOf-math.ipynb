{
 "cells": [
  {
   "cell_type": "code",
   "execution_count": 12,
   "metadata": {},
   "outputs": [
    {
     "data": {
      "text/plain": [
       "[{x: CRootOf(x**5 - x + 1, 0)},\n",
       " {x: CRootOf(x**5 - x + 1, 1)},\n",
       " {x: CRootOf(x**5 - x + 1, 2)},\n",
       " {x: CRootOf(x**5 - x + 1, 3)},\n",
       " {x: CRootOf(x**5 - x + 1, 4)}]"
      ]
     },
     "execution_count": 12,
     "metadata": {},
     "output_type": "execute_result"
    }
   ],
   "source": [
    "from sympy import roots, solve, real_roots, nroots, Poly\n",
    "from sympy.abc import x\n",
    "fifth_order = x**5 - x + 1\n",
    "fifth_order_solved = solve(fifth_order, x, dict=True)\n",
    "fifth_order_solved"
   ]
  },
  {
   "cell_type": "code",
   "execution_count": 13,
   "metadata": {},
   "outputs": [],
   "source": [
    "r0, r1, r2, r3, r4 = Poly(fifth_order, x).all_roots()"
   ]
  },
  {
   "cell_type": "code",
   "execution_count": 11,
   "metadata": {},
   "outputs": [
    {
     "name": "stdout",
     "output_type": "stream",
     "text": [
      "-1.167303978\n",
      "-0.1812324445 - 1.083954101*I\n",
      "-0.1812324445 + 1.083954101*I\n",
      "0.7648844336 - 0.352471546*I\n",
      "0.7648844336 + 0.352471546*I\n"
     ]
    }
   ],
   "source": [
    "for root in fifth_order_solved:\n",
    "    print(root[x].n(10))\n",
    "# -1.167303978\n",
    "# -0.1812324445 - 1.083954101*I\n",
    "# -0.1812324445 + 1.083954101*I\n",
    "# 0.7648844336 - 0.352471546*I\n",
    "# 0.7648844336 + 0.352471546*I"
   ]
  },
  {
   "cell_type": "code",
   "execution_count": 5,
   "metadata": {},
   "outputs": [
    {
     "data": {
      "text/latex": [
       "$\\displaystyle \\operatorname{CRootOf} {\\left(x^{5} - x + 1, 1\\right)}$"
      ],
      "text/plain": [
       "CRootOf(x**5 - x + 1, 1)"
      ]
     },
     "execution_count": 5,
     "metadata": {},
     "output_type": "execute_result"
    }
   ],
   "source": [
    "r1"
   ]
  },
  {
   "cell_type": "code",
   "execution_count": 6,
   "metadata": {},
   "outputs": [
    {
     "data": {
      "text/latex": [
       "$\\displaystyle \\operatorname{CRootOf} {\\left(x^{5} - x + 1, 1\\right)}^{2}$"
      ],
      "text/plain": [
       "CRootOf(x**5 - x + 1, 1)**2"
      ]
     },
     "execution_count": 6,
     "metadata": {},
     "output_type": "execute_result"
    }
   ],
   "source": [
    "r1**2"
   ]
  },
  {
   "cell_type": "code",
   "execution_count": 7,
   "metadata": {},
   "outputs": [
    {
     "data": {
      "text/latex": [
       "$\\displaystyle - \\operatorname{re}{\\left(\\operatorname{CRootOf} {\\left(x^{5} - x + 1, 1\\right)}\\right)} + \\operatorname{CRootOf} {\\left(x^{5} - x + 1, 1\\right)}$"
      ],
      "text/plain": [
       "-re(CRootOf(x**5 - x + 1, 1)) + CRootOf(x**5 - x + 1, 1)"
      ]
     },
     "execution_count": 7,
     "metadata": {},
     "output_type": "execute_result"
    }
   ],
   "source": [
    "from sympy import re, im, simplify\n",
    "simplify(r1 - re(r1))"
   ]
  },
  {
   "cell_type": "code",
   "execution_count": 8,
   "metadata": {},
   "outputs": [
    {
     "data": {
      "text/latex": [
       "$\\displaystyle \\operatorname{CRootOf} {\\left(x^{5} - x + 1, 1\\right)}^{2}$"
      ],
      "text/plain": [
       "CRootOf(x**5 - x + 1, 1)**2"
      ]
     },
     "execution_count": 8,
     "metadata": {},
     "output_type": "execute_result"
    }
   ],
   "source": [
    "Poly(x**2).subs(x, r1)"
   ]
  },
  {
   "cell_type": "code",
   "execution_count": 9,
   "metadata": {},
   "outputs": [
    {
     "data": {
      "text/latex": [
       "$\\displaystyle 4 \\operatorname{CRootOf} {\\left(x^{5} - x + 1, 1\\right)}^{2}$"
      ],
      "text/plain": [
       "4*CRootOf(x**5 - x + 1, 1)**2"
      ]
     },
     "execution_count": 9,
     "metadata": {},
     "output_type": "execute_result"
    }
   ],
   "source": [
    "(r1 + r1)**2\n",
    "# 4*CRootOf(x**5 - x + 1, 1)**2"
   ]
  }
 ],
 "metadata": {
  "kernelspec": {
   "display_name": "Python 3.9.7 ('base')",
   "language": "python",
   "name": "python3"
  },
  "language_info": {
   "codemirror_mode": {
    "name": "ipython",
    "version": 3
   },
   "file_extension": ".py",
   "mimetype": "text/x-python",
   "name": "python",
   "nbconvert_exporter": "python",
   "pygments_lexer": "ipython3",
   "version": "3.9.7"
  },
  "orig_nbformat": 4,
  "vscode": {
   "interpreter": {
    "hash": "a805e4787fe41e208b9e9ee3ee0be5f857b11e5edac61fba9adbad0693aa92c1"
   }
  }
 },
 "nbformat": 4,
 "nbformat_minor": 2
}
