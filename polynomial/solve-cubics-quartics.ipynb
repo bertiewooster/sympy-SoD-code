{
 "cells": [
  {
   "cell_type": "code",
   "execution_count": 10,
   "metadata": {},
   "outputs": [],
   "source": [
    "from sympy import solve\n",
    "from sympy.abc import x"
   ]
  },
  {
   "cell_type": "code",
   "execution_count": 11,
   "metadata": {},
   "outputs": [
    {
     "data": {
      "text/plain": [
       "[-sqrt(2/(3*(1/16 + sqrt(687)*I/144)**(1/3)) + 2*(1/16 + sqrt(687)*I/144)**(1/3))/2 - sqrt(-2*(1/16 + sqrt(687)*I/144)**(1/3) - 2/sqrt(2/(3*(1/16 + sqrt(687)*I/144)**(1/3)) + 2*(1/16 + sqrt(687)*I/144)**(1/3)) - 2/(3*(1/16 + sqrt(687)*I/144)**(1/3)))/2,\n",
       " sqrt(2/(3*(1/16 + sqrt(687)*I/144)**(1/3)) + 2*(1/16 + sqrt(687)*I/144)**(1/3))/2 - sqrt(-2*(1/16 + sqrt(687)*I/144)**(1/3) + 2/sqrt(2/(3*(1/16 + sqrt(687)*I/144)**(1/3)) + 2*(1/16 + sqrt(687)*I/144)**(1/3)) - 2/(3*(1/16 + sqrt(687)*I/144)**(1/3)))/2,\n",
       " sqrt(-2*(1/16 + sqrt(687)*I/144)**(1/3) - 2/sqrt(2/(3*(1/16 + sqrt(687)*I/144)**(1/3)) + 2*(1/16 + sqrt(687)*I/144)**(1/3)) - 2/(3*(1/16 + sqrt(687)*I/144)**(1/3)))/2 - sqrt(2/(3*(1/16 + sqrt(687)*I/144)**(1/3)) + 2*(1/16 + sqrt(687)*I/144)**(1/3))/2,\n",
       " sqrt(-2*(1/16 + sqrt(687)*I/144)**(1/3) + 2/sqrt(2/(3*(1/16 + sqrt(687)*I/144)**(1/3)) + 2*(1/16 + sqrt(687)*I/144)**(1/3)) - 2/(3*(1/16 + sqrt(687)*I/144)**(1/3)))/2 + sqrt(2/(3*(1/16 + sqrt(687)*I/144)**(1/3)) + 2*(1/16 + sqrt(687)*I/144)**(1/3))/2]"
      ]
     },
     "execution_count": 11,
     "metadata": {},
     "output_type": "execute_result"
    }
   ],
   "source": [
    "solve(x**4 - x + 1, x)"
   ]
  },
  {
   "cell_type": "code",
   "execution_count": 14,
   "metadata": {},
   "outputs": [
    {
     "data": {
      "text/latex": [
       "$\\displaystyle - \\frac{\\sqrt{\\frac{2}{3 \\sqrt[3]{\\frac{1}{16} + \\frac{\\sqrt{687} i}{144}}} + 2 \\sqrt[3]{\\frac{1}{16} + \\frac{\\sqrt{687} i}{144}}}}{2} - \\frac{\\sqrt{- 2 \\sqrt[3]{\\frac{1}{16} + \\frac{\\sqrt{687} i}{144}} - \\frac{2}{\\sqrt{\\frac{2}{3 \\sqrt[3]{\\frac{1}{16} + \\frac{\\sqrt{687} i}{144}}} + 2 \\sqrt[3]{\\frac{1}{16} + \\frac{\\sqrt{687} i}{144}}}} - \\frac{2}{3 \\sqrt[3]{\\frac{1}{16} + \\frac{\\sqrt{687} i}{144}}}}}{2}$"
      ],
      "text/plain": [
       "-sqrt(2/(3*(1/16 + sqrt(687)*I/144)**(1/3)) + 2*(1/16 + sqrt(687)*I/144)**(1/3))/2 - sqrt(-2*(1/16 + sqrt(687)*I/144)**(1/3) - 2/sqrt(2/(3*(1/16 + sqrt(687)*I/144)**(1/3)) + 2*(1/16 + sqrt(687)*I/144)**(1/3)) - 2/(3*(1/16 + sqrt(687)*I/144)**(1/3)))/2"
      ]
     },
     "execution_count": 14,
     "metadata": {},
     "output_type": "execute_result"
    }
   ],
   "source": [
    "solns = solve(x**4 - x + 1, x)\n",
    "solns[0]"
   ]
  },
  {
   "cell_type": "code",
   "execution_count": 15,
   "metadata": {},
   "outputs": [
    {
     "data": {
      "text/plain": [
       "'- \\\\frac{\\\\sqrt{\\\\frac{2}{3 \\\\sqrt[3]{\\\\frac{1}{16} + \\\\frac{\\\\sqrt{687} i}{144}}} + 2 \\\\sqrt[3]{\\\\frac{1}{16} + \\\\frac{\\\\sqrt{687} i}{144}}}}{2} - \\\\frac{\\\\sqrt{- 2 \\\\sqrt[3]{\\\\frac{1}{16} + \\\\frac{\\\\sqrt{687} i}{144}} - \\\\frac{2}{\\\\sqrt{\\\\frac{2}{3 \\\\sqrt[3]{\\\\frac{1}{16} + \\\\frac{\\\\sqrt{687} i}{144}}} + 2 \\\\sqrt[3]{\\\\frac{1}{16} + \\\\frac{\\\\sqrt{687} i}{144}}}} - \\\\frac{2}{3 \\\\sqrt[3]{\\\\frac{1}{16} + \\\\frac{\\\\sqrt{687} i}{144}}}}}{2}'"
      ]
     },
     "execution_count": 15,
     "metadata": {},
     "output_type": "execute_result"
    }
   ],
   "source": [
    "from sympy import latex\n",
    "latex(solns[0])"
   ]
  },
  {
   "cell_type": "code",
   "execution_count": 13,
   "metadata": {},
   "outputs": [
    {
     "data": {
      "text/plain": [
       "[CRootOf(x**4 - x + 1, 0),\n",
       " CRootOf(x**4 - x + 1, 1),\n",
       " CRootOf(x**4 - x + 1, 2),\n",
       " CRootOf(x**4 - x + 1, 3)]"
      ]
     },
     "execution_count": 13,
     "metadata": {},
     "output_type": "execute_result"
    }
   ],
   "source": [
    "solve(x**4 - x + 1, x, quartics=False)"
   ]
  }
 ],
 "metadata": {
  "kernelspec": {
   "display_name": "Python 3.9.7",
   "language": "python",
   "name": "python3"
  },
  "language_info": {
   "codemirror_mode": {
    "name": "ipython",
    "version": 3
   },
   "file_extension": ".py",
   "mimetype": "text/x-python",
   "name": "python",
   "nbconvert_exporter": "python",
   "pygments_lexer": "ipython3",
   "version": "3.9.7"
  },
  "orig_nbformat": 4,
  "vscode": {
   "interpreter": {
    "hash": "a805e4787fe41e208b9e9ee3ee0be5f857b11e5edac61fba9adbad0693aa92c1"
   }
  }
 },
 "nbformat": 4,
 "nbformat_minor": 2
}
