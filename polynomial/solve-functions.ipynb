{
 "cells": [
  {
   "cell_type": "code",
   "execution_count": 103,
   "metadata": {},
   "outputs": [
    {
     "data": {
      "text/plain": [
       "[{x: -2}, {x: 3}]"
      ]
     },
     "execution_count": 103,
     "metadata": {},
     "output_type": "execute_result"
    }
   ],
   "source": [
    "from sympy import solve, roots, nroots, real_roots, factor, expand\n",
    "from sympy.abc import x, a, b\n",
    "expression = (x+2)**2 * (x-3)\n",
    "symbolic = (x+a)**2 * (x-b)\n",
    "solve(expression, x, dict=True)\n",
    "# [{x: -2}, {x: 3}]"
   ]
  },
  {
   "cell_type": "code",
   "execution_count": 104,
   "metadata": {},
   "outputs": [
    {
     "data": {
      "text/plain": [
       "[{x: -a}, {x: b}]"
      ]
     },
     "execution_count": 104,
     "metadata": {},
     "output_type": "execute_result"
    }
   ],
   "source": [
    "solve(symbolic, x, dict=True)\n",
    "# [{x: -a}, {x: b}]"
   ]
  },
  {
   "cell_type": "code",
   "execution_count": 105,
   "metadata": {},
   "outputs": [
    {
     "data": {
      "text/plain": [
       "{3: 1, -2: 2}"
      ]
     },
     "execution_count": 105,
     "metadata": {},
     "output_type": "execute_result"
    }
   ],
   "source": [
    "roots(expression, x)\n",
    "# {-2: 2, 3: 1}"
   ]
  },
  {
   "cell_type": "code",
   "execution_count": 106,
   "metadata": {},
   "outputs": [
    {
     "data": {
      "text/plain": [
       "{b: 1, -a: 2}"
      ]
     },
     "execution_count": 106,
     "metadata": {},
     "output_type": "execute_result"
    }
   ],
   "source": [
    "roots(symbolic, x)\n",
    "# {-a: 2, b: 1}"
   ]
  },
  {
   "cell_type": "code",
   "execution_count": 107,
   "metadata": {},
   "outputs": [
    {
     "data": {
      "text/latex": [
       "$\\displaystyle x^{3} + x^{2} - 8 x - 12$"
      ],
      "text/plain": [
       "x**3 + x**2 - 8*x - 12"
      ]
     },
     "execution_count": 107,
     "metadata": {},
     "output_type": "execute_result"
    }
   ],
   "source": [
    "expression_expanded = expand(expression)\n",
    "expression_expanded\n",
    "# x**3 + x**2 - 8*x - 12"
   ]
  },
  {
   "cell_type": "code",
   "execution_count": 108,
   "metadata": {},
   "outputs": [
    {
     "data": {
      "text/latex": [
       "$\\displaystyle \\left(x - 3\\right) \\left(x + 2\\right)^{2}$"
      ],
      "text/plain": [
       "(x - 3)*(x + 2)**2"
      ]
     },
     "execution_count": 108,
     "metadata": {},
     "output_type": "execute_result"
    }
   ],
   "source": [
    "factor(expression_expanded)\n",
    "# (x - 3)*(x + 2)**2"
   ]
  },
  {
   "cell_type": "code",
   "execution_count": 109,
   "metadata": {},
   "outputs": [
    {
     "data": {
      "text/latex": [
       "$\\displaystyle - a^{2} b + a^{2} x - 2 a b x + 2 a x^{2} - b x^{2} + x^{3}$"
      ],
      "text/plain": [
       "-a**2*b + a**2*x - 2*a*b*x + 2*a*x**2 - b*x**2 + x**3"
      ]
     },
     "execution_count": 109,
     "metadata": {},
     "output_type": "execute_result"
    }
   ],
   "source": [
    "symbolic_expanded = expand(symbolic)\n",
    "symbolic_expanded\n",
    "# -a**2*b + a**2*x - 2*a*b*x + 2*a*x**2 - b*x**2 + x**3"
   ]
  },
  {
   "cell_type": "code",
   "execution_count": 110,
   "metadata": {},
   "outputs": [
    {
     "data": {
      "text/latex": [
       "$\\displaystyle \\left(a + x\\right)^{2} \\left(- b + x\\right)$"
      ],
      "text/plain": [
       "(a + x)**2*(-b + x)"
      ]
     },
     "execution_count": 110,
     "metadata": {},
     "output_type": "execute_result"
    }
   ],
   "source": [
    "factor(symbolic_expanded)\n",
    "# (a + x)**2*(-b + x)"
   ]
  },
  {
   "cell_type": "code",
   "execution_count": 118,
   "metadata": {},
   "outputs": [
    {
     "data": {
      "text/plain": [
       "[3.00000000000000,\n",
       " -2.0 - 4.18482169793536e-14*I,\n",
       " -2.0 + 4.55872552179222e-14*I]"
      ]
     },
     "execution_count": 118,
     "metadata": {},
     "output_type": "execute_result"
    }
   ],
   "source": [
    "nroots(expression)\n",
    "# [3.00000000000000,\n",
    "#  -2.0 - 4.18482169793536e-14*I,\n",
    "#  -2.0 + 4.55872552179222e-14*I]"
   ]
  },
  {
   "cell_type": "code",
   "execution_count": 112,
   "metadata": {},
   "outputs": [
    {
     "data": {
      "text/plain": [
       "[-2, -2, 3]"
      ]
     },
     "execution_count": 112,
     "metadata": {},
     "output_type": "execute_result"
    }
   ],
   "source": [
    "real_roots(expression)\n",
    "# [-2, -2, 3]"
   ]
  },
  {
   "cell_type": "code",
   "execution_count": 113,
   "metadata": {},
   "outputs": [],
   "source": [
    "# from sympy import symbols\n",
    "# a, b = symbols('a,b', real=True)\n",
    "# # x = Symbol('x', positive=True)\n",
    "# real_roots(symbolic)\n"
   ]
  }
 ],
 "metadata": {
  "kernelspec": {
   "display_name": "Python 3.9.7 ('base')",
   "language": "python",
   "name": "python3"
  },
  "language_info": {
   "codemirror_mode": {
    "name": "ipython",
    "version": 3
   },
   "file_extension": ".py",
   "mimetype": "text/x-python",
   "name": "python",
   "nbconvert_exporter": "python",
   "pygments_lexer": "ipython3",
   "version": "3.9.7"
  },
  "orig_nbformat": 4,
  "vscode": {
   "interpreter": {
    "hash": "a805e4787fe41e208b9e9ee3ee0be5f857b11e5edac61fba9adbad0693aa92c1"
   }
  }
 },
 "nbformat": 4,
 "nbformat_minor": 2
}
