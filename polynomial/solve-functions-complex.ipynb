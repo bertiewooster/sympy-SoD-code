{
 "cells": [
  {
   "cell_type": "code",
   "execution_count": 32,
   "metadata": {},
   "outputs": [
    {
     "data": {
      "text/plain": [
       "[{x: 3}, {x: -2*I}, {x: 2*I}]"
      ]
     },
     "execution_count": 32,
     "metadata": {},
     "output_type": "execute_result"
    }
   ],
   "source": [
    "from sympy import solve, roots, nroots, real_roots, expand, RootOf, CRootOf, Symbol\n",
    "from sympy import Poly\n",
    "from sympy.abc import x\n",
    "expression_complex = (x**2+4)**2 * (x-3)\n",
    "solve(expression_complex, x, dict=True)\n",
    "# [{x: 3}, {x: -2*I}, {x: 2*I}]"
   ]
  },
  {
   "cell_type": "code",
   "execution_count": 44,
   "metadata": {},
   "outputs": [
    {
     "data": {
      "text/plain": [
       "[{x: 3}, {x: -sqrt(-a)}, {x: sqrt(-a)}]"
      ]
     },
     "execution_count": 44,
     "metadata": {},
     "output_type": "execute_result"
    }
   ],
   "source": [
    "# Don't use, just verifying that a has to be positive to give an imaginary solution\n",
    "a = Symbol(\"a\")\n",
    "symbolic_complex = (x**2+a)**2 * (x-3)\n",
    "solve(symbolic_complex, x, dict=True)"
   ]
  },
  {
   "cell_type": "code",
   "execution_count": 45,
   "metadata": {},
   "outputs": [
    {
     "data": {
      "text/plain": [
       "[{x: 3}, {x: -I*sqrt(a)}, {x: I*sqrt(a)}]"
      ]
     },
     "execution_count": 45,
     "metadata": {},
     "output_type": "execute_result"
    }
   ],
   "source": [
    "a = Symbol(\"a\", positive=True)\n",
    "symbolic_complex = (x**2+a)**2 * (x-3)\n",
    "solve(symbolic_complex, x, dict=True)\n",
    "# [{x: 3}, {x: -I*sqrt(a)}, {x: I*sqrt(a)}]"
   ]
  },
  {
   "cell_type": "code",
   "execution_count": 37,
   "metadata": {},
   "outputs": [
    {
     "data": {
      "text/plain": [
       "{3: 1, -2*I: 2, 2*I: 2}"
      ]
     },
     "execution_count": 37,
     "metadata": {},
     "output_type": "execute_result"
    }
   ],
   "source": [
    "roots(expression_complex, x)\n",
    "# {3: 1, -2*I: 2, 2*I: 2}"
   ]
  },
  {
   "cell_type": "code",
   "execution_count": 38,
   "metadata": {},
   "outputs": [
    {
     "data": {
      "text/plain": [
       "[3, -2*I, -2*I, 2*I, 2*I]"
      ]
     },
     "execution_count": 38,
     "metadata": {},
     "output_type": "execute_result"
    }
   ],
   "source": [
    "expression_complex_poly = Poly(expression_complex)\n",
    "expression_complex_poly.all_roots()\n",
    "# [3, -2*I, -2*I, 2*I, 2*I]"
   ]
  },
  {
   "cell_type": "code",
   "execution_count": 39,
   "metadata": {},
   "outputs": [
    {
     "data": {
      "text/latex": [
       "$\\displaystyle x^{5} - 3 x^{4} + 8 x^{3} - 24 x^{2} + 16 x - 48$"
      ],
      "text/plain": [
       "x**5 - 3*x**4 + 8*x**3 - 24*x**2 + 16*x - 48"
      ]
     },
     "execution_count": 39,
     "metadata": {},
     "output_type": "execute_result"
    }
   ],
   "source": [
    "expression_expanded = expand(expression_complex)\n",
    "expression_expanded\n",
    "# x**3 + x**2 - 8*x - 12"
   ]
  },
  {
   "cell_type": "code",
   "execution_count": 40,
   "metadata": {},
   "outputs": [
    {
     "data": {
      "text/plain": [
       "[3.00000000000000, -2.26458881691839e-16 - 2.0*I, 2.0*I, -2.0*I, 2.0*I]"
      ]
     },
     "execution_count": 40,
     "metadata": {},
     "output_type": "execute_result"
    }
   ],
   "source": [
    "nroots(expression_complex)\n",
    "# [3.00000000000000,\n",
    "#  -2.0 - 4.18482169793536e-14*I,\n",
    "#  -2.0 + 4.55872552179222e-14*I]"
   ]
  },
  {
   "cell_type": "code",
   "execution_count": 41,
   "metadata": {},
   "outputs": [
    {
     "data": {
      "text/plain": [
       "[3]"
      ]
     },
     "execution_count": 41,
     "metadata": {},
     "output_type": "execute_result"
    }
   ],
   "source": [
    "real_roots(expression_complex)\n",
    "# [3]"
   ]
  },
  {
   "cell_type": "code",
   "execution_count": 42,
   "metadata": {},
   "outputs": [
    {
     "data": {
      "text/plain": [
       "[3, -2*I, -2*I]"
      ]
     },
     "execution_count": 42,
     "metadata": {},
     "output_type": "execute_result"
    }
   ],
   "source": [
    "[RootOf(expression_complex, n) for n in range(0,3)]\n",
    "# [3, -2*I, -2*I]"
   ]
  },
  {
   "cell_type": "code",
   "execution_count": 43,
   "metadata": {},
   "outputs": [
    {
     "data": {
      "text/plain": [
       "[3, CRootOf(x**2 + 4, 0), CRootOf(x**2 + 4, 0)]"
      ]
     },
     "execution_count": 43,
     "metadata": {},
     "output_type": "execute_result"
    }
   ],
   "source": [
    "[CRootOf(expression_complex, n) for n in range(0,3)]"
   ]
  }
 ],
 "metadata": {
  "kernelspec": {
   "display_name": "Python 3.9.7 ('base')",
   "language": "python",
   "name": "python3"
  },
  "language_info": {
   "codemirror_mode": {
    "name": "ipython",
    "version": 3
   },
   "file_extension": ".py",
   "mimetype": "text/x-python",
   "name": "python",
   "nbconvert_exporter": "python",
   "pygments_lexer": "ipython3",
   "version": "3.9.7"
  },
  "orig_nbformat": 4,
  "vscode": {
   "interpreter": {
    "hash": "a805e4787fe41e208b9e9ee3ee0be5f857b11e5edac61fba9adbad0693aa92c1"
   }
  }
 },
 "nbformat": 4,
 "nbformat_minor": 2
}
