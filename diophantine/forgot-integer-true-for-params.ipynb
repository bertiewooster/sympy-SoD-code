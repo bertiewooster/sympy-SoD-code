{
 "cells": [
  {
   "cell_type": "code",
   "execution_count": 5,
   "metadata": {},
   "outputs": [
    {
     "data": {
      "text/plain": [
       "{(2*p*q, p**2 - q**2, p**2 + q**2)}"
      ]
     },
     "execution_count": 5,
     "metadata": {},
     "output_type": "execute_result"
    }
   ],
   "source": [
    "from sympy import symbols\n",
    "from sympy.solvers.diophantine import diophantine\n",
    "a, b, c, p, q = symbols(\"a, b, c, p, q\")\n",
    "d = diophantine(a**2 + b**2 - c**2)\n",
    "d\n",
    "# {(2*p*q, p**2 - q**2, p**2 + q**2)}"
   ]
  },
  {
   "cell_type": "code",
   "execution_count": 6,
   "metadata": {},
   "outputs": [
    {
     "data": {
      "text/plain": [
       "{a: 2*p*q, b: p**2 - q**2, c: p**2 + q**2}"
      ]
     },
     "execution_count": 6,
     "metadata": {},
     "output_type": "execute_result"
    }
   ],
   "source": [
    "my_syms = (a, b, c)\n",
    "solution_list = list(d)\n",
    "solution_p4q3 = dict(zip(my_syms, [var.subs({p:4, q:3}) for var in solution_list[0]]))\n",
    "solution_p4q3"
   ]
  },
  {
   "cell_type": "code",
   "execution_count": 33,
   "metadata": {},
   "outputs": [
    {
     "data": {
      "text/plain": [
       "{a: 24, b: 7, c: 25}"
      ]
     },
     "execution_count": 33,
     "metadata": {},
     "output_type": "execute_result"
    }
   ],
   "source": [
    "a, b, c, p, q = symbols(\"a, b, c, p, q\", integer=True)\n",
    "solution_p4q3 = dict(zip(my_syms, [var.subs({p:4, q:3}) for var in solution_list[0]]))\n",
    "solution_p4q3"
   ]
  },
  {
   "cell_type": "code",
   "execution_count": 36,
   "metadata": {},
   "outputs": [
    {
     "name": "stdout",
     "output_type": "stream",
     "text": [
      "p: -1, q: -1 -> {a: 2, b: 0, c: 2}\n",
      "p: -1, q: 0 -> {a: 0, b: 1, c: 1}\n",
      "p: -1, q: 1 -> {a: -2, b: 0, c: 2}\n",
      "p: 0, q: -1 -> {a: 0, b: -1, c: 1}\n",
      "p: 0, q: 0 -> {a: 0, b: 0, c: 0}\n",
      "p: 0, q: 1 -> {a: 0, b: -1, c: 1}\n",
      "p: 1, q: -1 -> {a: -2, b: 0, c: 2}\n",
      "p: 1, q: 0 -> {a: 0, b: 1, c: 1}\n",
      "p: 1, q: 1 -> {a: 2, b: 0, c: 2}\n"
     ]
    }
   ],
   "source": [
    "for p_val in range(-1,2):\n",
    "    for q_val in range(-1,2):\n",
    "        pythag_vals = dict(zip(my_syms, [var.subs({p:p_val, q:q_val}) for var in solution_list[0]]))\n",
    "        print(f\"p: {p_val}, q: {q_val} -> {pythag_vals}\")"
   ]
  }
 ],
 "metadata": {
  "kernelspec": {
   "display_name": "Python 3.9.7",
   "language": "python",
   "name": "python3"
  },
  "language_info": {
   "codemirror_mode": {
    "name": "ipython",
    "version": 3
   },
   "file_extension": ".py",
   "mimetype": "text/x-python",
   "name": "python",
   "nbconvert_exporter": "python",
   "pygments_lexer": "ipython3",
   "version": "3.9.7"
  },
  "orig_nbformat": 4,
  "vscode": {
   "interpreter": {
    "hash": "a805e4787fe41e208b9e9ee3ee0be5f857b11e5edac61fba9adbad0693aa92c1"
   }
  }
 },
 "nbformat": 4,
 "nbformat_minor": 2
}
