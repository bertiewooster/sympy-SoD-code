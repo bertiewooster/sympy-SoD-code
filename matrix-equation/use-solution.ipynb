{
 "cells": [
  {
   "cell_type": "code",
   "execution_count": 7,
   "metadata": {},
   "outputs": [
    {
     "data": {
      "text/latex": [
       "$\\displaystyle \\left[\\begin{matrix}\\frac{2 e}{c e + d}\\\\\\frac{2}{c e + d}\\end{matrix}\\right]$"
      ],
      "text/plain": [
       "Matrix([\n",
       "[2*e/(c*e + d)],\n",
       "[  2/(c*e + d)]])"
      ]
     },
     "execution_count": 7,
     "metadata": {},
     "output_type": "execute_result"
    }
   ],
   "source": [
    "from sympy import symbols, simplify\n",
    "from sympy.matrices import Matrix\n",
    "c, d, e = symbols(\"c, d, e\")\n",
    "A = Matrix([[c,d], [1, -e]])\n",
    "b = Matrix([2, 0])\n",
    "solution = A.solve(b)\n",
    "solution\n",
    "# Matrix([\n",
    "# [2*e/(c*e + d)],\n",
    "# [  2/(c*e + d)]])"
   ]
  },
  {
   "cell_type": "code",
   "execution_count": 13,
   "metadata": {},
   "outputs": [
    {
     "data": {
      "text/latex": [
       "$\\displaystyle \\left[\\begin{matrix}\\frac{2 c e}{c e + d} + \\frac{2 d}{c e + d} - 2\\\\0\\end{matrix}\\right]$"
      ],
      "text/plain": [
       "Matrix([\n",
       "[2*c*e/(c*e + d) + 2*d/(c*e + d) - 2],\n",
       "[                                  0]])"
      ]
     },
     "execution_count": 13,
     "metadata": {},
     "output_type": "execute_result"
    }
   ],
   "source": [
    "(A * solution) - b # Not immediately obvious whether this result is a zeroes vector\n",
    "# Matrix([\n",
    "# [2*c*e/(c*e + d) + 2*d/(c*e + d) - 2],\n",
    "# [                                  0]])"
   ]
  },
  {
   "cell_type": "code",
   "execution_count": 12,
   "metadata": {},
   "outputs": [
    {
     "data": {
      "text/latex": [
       "$\\displaystyle \\left[\\begin{matrix}0\\\\0\\end{matrix}\\right]$"
      ],
      "text/plain": [
       "Matrix([\n",
       "[0],\n",
       "[0]])"
      ]
     },
     "execution_count": 12,
     "metadata": {},
     "output_type": "execute_result"
    }
   ],
   "source": [
    "simplify((A * solution) - b) # simplify reveals that this result is a zeroes vector\n",
    "# Matrix([\n",
    "# [0],\n",
    "# [0]])"
   ]
  },
  {
   "cell_type": "code",
   "execution_count": 9,
   "metadata": {},
   "outputs": [
    {
     "data": {
      "text/plain": [
       "[2*e/(c*e + d), 2/(c*e + d)]"
      ]
     },
     "execution_count": 9,
     "metadata": {},
     "output_type": "execute_result"
    }
   ],
   "source": [
    "[element for element in solution]\n",
    "#[2*e/(c*e + d), 2/(c*e + d)]"
   ]
  },
  {
   "cell_type": "code",
   "execution_count": 10,
   "metadata": {},
   "outputs": [
    {
     "data": {
      "text/latex": [
       "$\\displaystyle \\frac{2 e}{c e + d}$"
      ],
      "text/plain": [
       "2*e/(c*e + d)"
      ]
     },
     "execution_count": 10,
     "metadata": {},
     "output_type": "execute_result"
    }
   ],
   "source": [
    "solution[0]\n",
    "# 2*e/(c*e + d)"
   ]
  }
 ],
 "metadata": {
  "kernelspec": {
   "display_name": "Python 3.9.7",
   "language": "python",
   "name": "python3"
  },
  "language_info": {
   "codemirror_mode": {
    "name": "ipython",
    "version": 3
   },
   "file_extension": ".py",
   "mimetype": "text/x-python",
   "name": "python",
   "nbconvert_exporter": "python",
   "pygments_lexer": "ipython3",
   "version": "3.9.7"
  },
  "orig_nbformat": 4,
  "vscode": {
   "interpreter": {
    "hash": "a805e4787fe41e208b9e9ee3ee0be5f857b11e5edac61fba9adbad0693aa92c1"
   }
  }
 },
 "nbformat": 4,
 "nbformat_minor": 2
}
