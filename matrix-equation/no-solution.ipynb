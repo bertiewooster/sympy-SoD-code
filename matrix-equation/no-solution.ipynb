{
 "cells": [
  {
   "cell_type": "code",
   "execution_count": 19,
   "metadata": {},
   "outputs": [
    {
     "data": {
      "text/latex": [
       "$\\displaystyle \\left[\\begin{matrix}c e^{2} & d e\\\\c e & d\\end{matrix}\\right]$"
      ],
      "text/plain": [
       "Matrix([\n",
       "[c*e**2, d*e],\n",
       "[   c*e,   d]])"
      ]
     },
     "execution_count": 19,
     "metadata": {},
     "output_type": "execute_result"
    }
   ],
   "source": [
    "from sympy import symbols\n",
    "from sympy.matrices import Matrix\n",
    "# c, d = symbols(\"c, d\")\n",
    "# A = Matrix([[4*c, 2*d], [2*c, d]])\n",
    "c, d, e = symbols(\"c, d, e\")\n",
    "A = Matrix([[c*e**2, d*e], [c*e, d]])\n",
    "A\n",
    "# Matrix([\n",
    "# [c*e**2, d*e],\n",
    "# [   c*e,   d]])"
   ]
  },
  {
   "cell_type": "code",
   "execution_count": 20,
   "metadata": {},
   "outputs": [
    {
     "data": {
      "text/latex": [
       "$\\displaystyle 0$"
      ],
      "text/plain": [
       "0"
      ]
     },
     "execution_count": 20,
     "metadata": {},
     "output_type": "execute_result"
    }
   ],
   "source": [
    "A.det()"
   ]
  },
  {
   "cell_type": "code",
   "execution_count": 21,
   "metadata": {},
   "outputs": [
    {
     "data": {
      "text/latex": [
       "$\\displaystyle \\left[\\begin{matrix}2\\\\0\\end{matrix}\\right]$"
      ],
      "text/plain": [
       "Matrix([\n",
       "[2],\n",
       "[0]])"
      ]
     },
     "execution_count": 21,
     "metadata": {},
     "output_type": "execute_result"
    }
   ],
   "source": [
    "b = Matrix([2, 0])\n",
    "b\n",
    "# Matrix([\n",
    "# [2],\n",
    "# [0]])"
   ]
  },
  {
   "cell_type": "code",
   "execution_count": 24,
   "metadata": {},
   "outputs": [
    {
     "ename": "NonInvertibleMatrixError",
     "evalue": "Matrix det == 0; not invertible.",
     "output_type": "error",
     "traceback": [
      "\u001b[0;31m---------------------------------------------------------------------------\u001b[0m",
      "\u001b[0;31mValueError\u001b[0m                                Traceback (most recent call last)",
      "\u001b[0;32m~/opt/anaconda3/lib/python3.9/site-packages/sympy/matrices/solvers.py\u001b[0m in \u001b[0;36m_LUsolve\u001b[0;34m(M, rhs, iszerofunc)\u001b[0m\n\u001b[1;32m    339\u001b[0m     \u001b[0;32mtry\u001b[0m\u001b[0;34m:\u001b[0m\u001b[0;34m\u001b[0m\u001b[0;34m\u001b[0m\u001b[0m\n\u001b[0;32m--> 340\u001b[0;31m         A, perm = M.LUdecomposition_Simple(\n\u001b[0m\u001b[1;32m    341\u001b[0m             iszerofunc=_iszero, rankcheck=True)\n",
      "\u001b[0;32m~/opt/anaconda3/lib/python3.9/site-packages/sympy/matrices/matrices.py\u001b[0m in \u001b[0;36mLUdecomposition_Simple\u001b[0;34m(self, iszerofunc, simpfunc, rankcheck)\u001b[0m\n\u001b[1;32m   2146\u001b[0m             rankcheck=False):\n\u001b[0;32m-> 2147\u001b[0;31m         return _LUdecomposition_Simple(self, iszerofunc=iszerofunc,\n\u001b[0m\u001b[1;32m   2148\u001b[0m                 simpfunc=simpfunc, rankcheck=rankcheck)\n",
      "\u001b[0;32m~/opt/anaconda3/lib/python3.9/site-packages/sympy/matrices/decompositions.py\u001b[0m in \u001b[0;36m_LUdecomposition_Simple\u001b[0;34m(M, iszerofunc, simpfunc, rankcheck)\u001b[0m\n\u001b[1;32m   1057\u001b[0m                 lu[Min(lu.rows, lu.cols) - 1, Min(lu.rows, lu.cols) - 1]):\n\u001b[0;32m-> 1058\u001b[0;31m             raise ValueError(\"Rank of matrix is strictly less than\"\n\u001b[0m\u001b[1;32m   1059\u001b[0m                                 \u001b[0;34m\" number of rows or columns.\"\u001b[0m\u001b[0;34m\u001b[0m\u001b[0;34m\u001b[0m\u001b[0m\n",
      "\u001b[0;31mValueError\u001b[0m: Rank of matrix is strictly less than number of rows or columns. Pass keyword argument rankcheck=False to compute the LU decomposition of this matrix.",
      "\nDuring handling of the above exception, another exception occurred:\n",
      "\u001b[0;31mNonInvertibleMatrixError\u001b[0m                  Traceback (most recent call last)",
      "\u001b[0;32m/var/folders/9w/cn8tqbv976gckxd0c9cbr1sw0000gn/T/ipykernel_71006/2171170662.py\u001b[0m in \u001b[0;36m<module>\u001b[0;34m\u001b[0m\n\u001b[0;32m----> 1\u001b[0;31m \u001b[0mA\u001b[0m\u001b[0;34m.\u001b[0m\u001b[0mLUsolve\u001b[0m\u001b[0;34m(\u001b[0m\u001b[0mb\u001b[0m\u001b[0;34m)\u001b[0m\u001b[0;34m\u001b[0m\u001b[0;34m\u001b[0m\u001b[0m\n\u001b[0m\u001b[1;32m      2\u001b[0m \u001b[0;31m# Traceback (most recent call last):\u001b[0m\u001b[0;34m\u001b[0m\u001b[0;34m\u001b[0m\u001b[0m\n\u001b[1;32m      3\u001b[0m \u001b[0;31m#     ...\u001b[0m\u001b[0;34m\u001b[0m\u001b[0;34m\u001b[0m\u001b[0m\n\u001b[1;32m      4\u001b[0m \u001b[0;31m# NonInvertibleMatrixError: Matrix det == 0; not invertible.\u001b[0m\u001b[0;34m\u001b[0m\u001b[0;34m\u001b[0m\u001b[0m\n",
      "\u001b[0;32m~/opt/anaconda3/lib/python3.9/site-packages/sympy/matrices/matrices.py\u001b[0m in \u001b[0;36mLUsolve\u001b[0;34m(self, rhs, iszerofunc)\u001b[0m\n\u001b[1;32m   2176\u001b[0m \u001b[0;34m\u001b[0m\u001b[0m\n\u001b[1;32m   2177\u001b[0m     \u001b[0;32mdef\u001b[0m \u001b[0mLUsolve\u001b[0m\u001b[0;34m(\u001b[0m\u001b[0mself\u001b[0m\u001b[0;34m,\u001b[0m \u001b[0mrhs\u001b[0m\u001b[0;34m,\u001b[0m \u001b[0miszerofunc\u001b[0m\u001b[0;34m=\u001b[0m\u001b[0m_iszero\u001b[0m\u001b[0;34m)\u001b[0m\u001b[0;34m:\u001b[0m\u001b[0;34m\u001b[0m\u001b[0;34m\u001b[0m\u001b[0m\n\u001b[0;32m-> 2178\u001b[0;31m         \u001b[0;32mreturn\u001b[0m \u001b[0m_LUsolve\u001b[0m\u001b[0;34m(\u001b[0m\u001b[0mself\u001b[0m\u001b[0;34m,\u001b[0m \u001b[0mrhs\u001b[0m\u001b[0;34m,\u001b[0m \u001b[0miszerofunc\u001b[0m\u001b[0;34m=\u001b[0m\u001b[0miszerofunc\u001b[0m\u001b[0;34m)\u001b[0m\u001b[0;34m\u001b[0m\u001b[0;34m\u001b[0m\u001b[0m\n\u001b[0m\u001b[1;32m   2179\u001b[0m \u001b[0;34m\u001b[0m\u001b[0m\n\u001b[1;32m   2180\u001b[0m     \u001b[0;32mdef\u001b[0m \u001b[0mQRsolve\u001b[0m\u001b[0;34m(\u001b[0m\u001b[0mself\u001b[0m\u001b[0;34m,\u001b[0m \u001b[0mb\u001b[0m\u001b[0;34m)\u001b[0m\u001b[0;34m:\u001b[0m\u001b[0;34m\u001b[0m\u001b[0;34m\u001b[0m\u001b[0m\n",
      "\u001b[0;32m~/opt/anaconda3/lib/python3.9/site-packages/sympy/matrices/solvers.py\u001b[0m in \u001b[0;36m_LUsolve\u001b[0;34m(M, rhs, iszerofunc)\u001b[0m\n\u001b[1;32m    341\u001b[0m             iszerofunc=_iszero, rankcheck=True)\n\u001b[1;32m    342\u001b[0m     \u001b[0;32mexcept\u001b[0m \u001b[0mValueError\u001b[0m\u001b[0;34m:\u001b[0m\u001b[0;34m\u001b[0m\u001b[0;34m\u001b[0m\u001b[0m\n\u001b[0;32m--> 343\u001b[0;31m         \u001b[0;32mraise\u001b[0m \u001b[0mNonInvertibleMatrixError\u001b[0m\u001b[0;34m(\u001b[0m\u001b[0;34m\"Matrix det == 0; not invertible.\"\u001b[0m\u001b[0;34m)\u001b[0m\u001b[0;34m\u001b[0m\u001b[0;34m\u001b[0m\u001b[0m\n\u001b[0m\u001b[1;32m    344\u001b[0m \u001b[0;34m\u001b[0m\u001b[0m\n\u001b[1;32m    345\u001b[0m     \u001b[0mdps\u001b[0m \u001b[0;34m=\u001b[0m \u001b[0m_get_intermediate_simp\u001b[0m\u001b[0;34m(\u001b[0m\u001b[0;34m)\u001b[0m\u001b[0;34m\u001b[0m\u001b[0;34m\u001b[0m\u001b[0m\n",
      "\u001b[0;31mNonInvertibleMatrixError\u001b[0m: Matrix det == 0; not invertible."
     ]
    }
   ],
   "source": [
    "A.LUsolve(b)\n",
    "# Traceback (most recent call last):\n",
    "#     ...\n",
    "# NonInvertibleMatrixError: Matrix det == 0; not invertible."
   ]
  },
  {
   "cell_type": "code",
   "execution_count": 49,
   "metadata": {},
   "outputs": [
    {
     "data": {
      "text/latex": [
       "$\\displaystyle \\left[\\begin{matrix}\\frac{2 e}{c e + d}\\\\\\frac{2}{c e + d}\\end{matrix}\\right]$"
      ],
      "text/plain": [
       "Matrix([\n",
       "[2*e/(c*e + d)],\n",
       "[  2/(c*e + d)]])"
      ]
     },
     "execution_count": 49,
     "metadata": {},
     "output_type": "execute_result"
    }
   ],
   "source": [
    "# Solve() instead of LUsolve\n",
    "A.solve(b)"
   ]
  }
 ],
 "metadata": {
  "kernelspec": {
   "display_name": "Python 3.9.7",
   "language": "python",
   "name": "python3"
  },
  "language_info": {
   "codemirror_mode": {
    "name": "ipython",
    "version": 3
   },
   "file_extension": ".py",
   "mimetype": "text/x-python",
   "name": "python",
   "nbconvert_exporter": "python",
   "pygments_lexer": "ipython3",
   "version": "3.9.7"
  },
  "orig_nbformat": 4,
  "vscode": {
   "interpreter": {
    "hash": "a805e4787fe41e208b9e9ee3ee0be5f857b11e5edac61fba9adbad0693aa92c1"
   }
  }
 },
 "nbformat": 4,
 "nbformat_minor": 2
}
