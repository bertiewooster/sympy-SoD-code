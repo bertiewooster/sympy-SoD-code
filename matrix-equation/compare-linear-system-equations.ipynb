{
 "cells": [
  {
   "cell_type": "code",
   "execution_count": 5,
   "metadata": {},
   "outputs": [
    {
     "data": {
      "text/plain": [
       "[{x0: (2*A01*A12 - 2*A02*A11 + 2*A11*A22 - 2*A12*A21)/(A00*A11*A22 - A00*A12*A21 - A01*A10*A22 + A01*A12*A20 + A02*A10*A21 - A02*A11*A20),\n",
       "  x1: (-2*A00*A12 + 2*A02*A10 - 2*A10*A22 + 2*A12*A20)/(A00*A11*A22 - A00*A12*A21 - A01*A10*A22 + A01*A12*A20 + A02*A10*A21 - A02*A11*A20),\n",
       "  x2: (2*A00*A11 - 2*A01*A10 + 2*A10*A21 - 2*A11*A20)/(A00*A11*A22 - A00*A12*A21 - A01*A10*A22 + A01*A12*A20 + A02*A10*A21 - A02*A11*A20)}]"
      ]
     },
     "execution_count": 5,
     "metadata": {},
     "output_type": "execute_result"
    }
   ],
   "source": [
    "from sympy import solve, symbols\n",
    "A00, A01, A02, A10, A11, A12, A20, A21, A22 = symbols(\"A00, A01, A02, A10, A11, A12, A20, A21, A22\")\n",
    "x0, x1, x2 = symbols(\"x0, x1, x2\")\n",
    "eq0 = A00*x0 + A01 * x1 + A02 * x2 - 2\n",
    "eq1 = A10*x0 + A11 * x1 + A12 * x2 - 0\n",
    "eq2 = A20*x0 + A21 * x1 + A22 * x2 - 2\n",
    "solve([eq0, eq1, eq2], [x0, x1, x2], dict=True)"
   ]
  },
  {
   "cell_type": "code",
   "execution_count": 7,
   "metadata": {},
   "outputs": [
    {
     "data": {
      "text/plain": [
       "[{x0: (-2*A01*A12*A23 + 2*A01*A12*A33 + 2*A01*A13*A22 - 2*A01*A13*A32 + 2*A02*A11*A23 - 2*A02*A11*A33 - 2*A02*A13*A21 + 2*A02*A13*A31 - 2*A03*A11*A22 + 2*A03*A11*A32 + 2*A03*A12*A21 - 2*A03*A12*A31 + 2*A11*A22*A33 - 2*A11*A23*A32 - 2*A12*A21*A33 + 2*A12*A23*A31 + 2*A13*A21*A32 - 2*A13*A22*A31)/(A00*A11*A22*A33 - A00*A11*A23*A32 - A00*A12*A21*A33 + A00*A12*A23*A31 + A00*A13*A21*A32 - A00*A13*A22*A31 - A01*A10*A22*A33 + A01*A10*A23*A32 + A01*A12*A20*A33 - A01*A12*A23*A30 - A01*A13*A20*A32 + A01*A13*A22*A30 + A02*A10*A21*A33 - A02*A10*A23*A31 - A02*A11*A20*A33 + A02*A11*A23*A30 + A02*A13*A20*A31 - A02*A13*A21*A30 - A03*A10*A21*A32 + A03*A10*A22*A31 + A03*A11*A20*A32 - A03*A11*A22*A30 - A03*A12*A20*A31 + A03*A12*A21*A30),\n",
       "  x1: (2*A00*A12*A23 - 2*A00*A12*A33 - 2*A00*A13*A22 + 2*A00*A13*A32 - 2*A02*A10*A23 + 2*A02*A10*A33 + 2*A02*A13*A20 - 2*A02*A13*A30 + 2*A03*A10*A22 - 2*A03*A10*A32 - 2*A03*A12*A20 + 2*A03*A12*A30 - 2*A10*A22*A33 + 2*A10*A23*A32 + 2*A12*A20*A33 - 2*A12*A23*A30 - 2*A13*A20*A32 + 2*A13*A22*A30)/(A00*A11*A22*A33 - A00*A11*A23*A32 - A00*A12*A21*A33 + A00*A12*A23*A31 + A00*A13*A21*A32 - A00*A13*A22*A31 - A01*A10*A22*A33 + A01*A10*A23*A32 + A01*A12*A20*A33 - A01*A12*A23*A30 - A01*A13*A20*A32 + A01*A13*A22*A30 + A02*A10*A21*A33 - A02*A10*A23*A31 - A02*A11*A20*A33 + A02*A11*A23*A30 + A02*A13*A20*A31 - A02*A13*A21*A30 - A03*A10*A21*A32 + A03*A10*A22*A31 + A03*A11*A20*A32 - A03*A11*A22*A30 - A03*A12*A20*A31 + A03*A12*A21*A30),\n",
       "  x2: (-2*A00*A11*A23 + 2*A00*A11*A33 + 2*A00*A13*A21 - 2*A00*A13*A31 + 2*A01*A10*A23 - 2*A01*A10*A33 - 2*A01*A13*A20 + 2*A01*A13*A30 - 2*A03*A10*A21 + 2*A03*A10*A31 + 2*A03*A11*A20 - 2*A03*A11*A30 + 2*A10*A21*A33 - 2*A10*A23*A31 - 2*A11*A20*A33 + 2*A11*A23*A30 + 2*A13*A20*A31 - 2*A13*A21*A30)/(A00*A11*A22*A33 - A00*A11*A23*A32 - A00*A12*A21*A33 + A00*A12*A23*A31 + A00*A13*A21*A32 - A00*A13*A22*A31 - A01*A10*A22*A33 + A01*A10*A23*A32 + A01*A12*A20*A33 - A01*A12*A23*A30 - A01*A13*A20*A32 + A01*A13*A22*A30 + A02*A10*A21*A33 - A02*A10*A23*A31 - A02*A11*A20*A33 + A02*A11*A23*A30 + A02*A13*A20*A31 - A02*A13*A21*A30 - A03*A10*A21*A32 + A03*A10*A22*A31 + A03*A11*A20*A32 - A03*A11*A22*A30 - A03*A12*A20*A31 + A03*A12*A21*A30),\n",
       "  x3: (2*A00*A11*A22 - 2*A00*A11*A32 - 2*A00*A12*A21 + 2*A00*A12*A31 - 2*A01*A10*A22 + 2*A01*A10*A32 + 2*A01*A12*A20 - 2*A01*A12*A30 + 2*A02*A10*A21 - 2*A02*A10*A31 - 2*A02*A11*A20 + 2*A02*A11*A30 - 2*A10*A21*A32 + 2*A10*A22*A31 + 2*A11*A20*A32 - 2*A11*A22*A30 - 2*A12*A20*A31 + 2*A12*A21*A30)/(A00*A11*A22*A33 - A00*A11*A23*A32 - A00*A12*A21*A33 + A00*A12*A23*A31 + A00*A13*A21*A32 - A00*A13*A22*A31 - A01*A10*A22*A33 + A01*A10*A23*A32 + A01*A12*A20*A33 - A01*A12*A23*A30 - A01*A13*A20*A32 + A01*A13*A22*A30 + A02*A10*A21*A33 - A02*A10*A23*A31 - A02*A11*A20*A33 + A02*A11*A23*A30 + A02*A13*A20*A31 - A02*A13*A21*A30 - A03*A10*A21*A32 + A03*A10*A22*A31 + A03*A11*A20*A32 - A03*A11*A22*A30 - A03*A12*A20*A31 + A03*A12*A21*A30)}]"
      ]
     },
     "execution_count": 7,
     "metadata": {},
     "output_type": "execute_result"
    }
   ],
   "source": [
    "A00, A01, A02, A03, A10, A11, A12, A13, A20, A21, A22, A23, A30, A31, A32, A33 = symbols(\"A00, A01, A02, A03, A10, A11, A12, A13, A20, A21, A22, A23, A30, A31, A32, A33\")\n",
    "x0, x1, x2, x3 = symbols(\"x0, x1, x2, x3\")\n",
    "eq0 = A00*x0 + A01 * x1 + A02 * x2 + A03 * x3 - 2\n",
    "eq1 = A10*x0 + A11 * x1 + A12 * x2 + A13 * x3 - 0\n",
    "eq2 = A20*x0 + A21 * x1 + A22 * x2 + A23 * x3 - 2\n",
    "eq3 = A30*x0 + A31 * x1 + A32 * x2 + A33 * x3 - 2\n",
    "solve([eq0, eq1, eq2, eq3], [x0, x1, x2, x3], dict=True)"
   ]
  }
 ],
 "metadata": {
  "kernelspec": {
   "display_name": "Python 3.9.7 ('base')",
   "language": "python",
   "name": "python3"
  },
  "language_info": {
   "codemirror_mode": {
    "name": "ipython",
    "version": 3
   },
   "file_extension": ".py",
   "mimetype": "text/x-python",
   "name": "python",
   "nbconvert_exporter": "python",
   "pygments_lexer": "ipython3",
   "version": "3.9.7"
  },
  "orig_nbformat": 4,
  "vscode": {
   "interpreter": {
    "hash": "a805e4787fe41e208b9e9ee3ee0be5f857b11e5edac61fba9adbad0693aa92c1"
   }
  }
 },
 "nbformat": 4,
 "nbformat_minor": 2
}
