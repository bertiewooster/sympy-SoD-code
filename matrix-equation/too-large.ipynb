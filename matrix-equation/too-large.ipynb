{
 "cells": [
  {
   "cell_type": "code",
   "execution_count": 22,
   "metadata": {},
   "outputs": [],
   "source": [
    "from sympy import init_printing\n",
    "init_printing()"
   ]
  },
  {
   "cell_type": "code",
   "execution_count": 44,
   "metadata": {},
   "outputs": [
    {
     "name": "stderr",
     "output_type": "stream",
     "text": [
      "/Users/jemonat/opt/anaconda3/lib/python3.9/site-packages/IPython/lib/latextools.py:126: MatplotlibDeprecationWarning: \n",
      "The to_png function was deprecated in Matplotlib 3.4 and will be removed two minor releases later. Use mathtext.math_to_image instead.\n",
      "  mt.to_png(f, s, fontsize=12, dpi=dpi, color=color)\n",
      "/Users/jemonat/opt/anaconda3/lib/python3.9/site-packages/IPython/lib/latextools.py:126: MatplotlibDeprecationWarning: \n",
      "The to_rgba function was deprecated in Matplotlib 3.4 and will be removed two minor releases later. Use mathtext.math_to_image instead.\n",
      "  mt.to_png(f, s, fontsize=12, dpi=dpi, color=color)\n",
      "/Users/jemonat/opt/anaconda3/lib/python3.9/site-packages/IPython/lib/latextools.py:126: MatplotlibDeprecationWarning: \n",
      "The to_mask function was deprecated in Matplotlib 3.4 and will be removed two minor releases later. Use mathtext.math_to_image instead.\n",
      "  mt.to_png(f, s, fontsize=12, dpi=dpi, color=color)\n",
      "/Users/jemonat/opt/anaconda3/lib/python3.9/site-packages/IPython/lib/latextools.py:126: MatplotlibDeprecationWarning: \n",
      "The MathtextBackendBitmap class was deprecated in Matplotlib 3.4 and will be removed two minor releases later. Use mathtext.math_to_image instead.\n",
      "  mt.to_png(f, s, fontsize=12, dpi=dpi, color=color)\n"
     ]
    },
    {
     "data": {
      "text/latex": [
       "$\\displaystyle \\left[\\begin{matrix}A_{0, 0} & A_{0, 1} & A_{0, 2} & A_{0, 3}\\\\A_{1, 0} & A_{1, 1} & A_{1, 2} & A_{1, 3}\\\\A_{2, 0} & A_{2, 1} & A_{2, 2} & A_{2, 3}\\\\A_{3, 0} & A_{3, 1} & A_{3, 2} & A_{3, 3}\\end{matrix}\\right]$"
      ],
      "text/plain": [
       "⎡A₀₀  A₀₁  A₀₂  A₀₃⎤\n",
       "⎢                  ⎥\n",
       "⎢A₁₀  A₁₁  A₁₂  A₁₃⎥\n",
       "⎢                  ⎥\n",
       "⎢A₂₀  A₂₁  A₂₂  A₂₃⎥\n",
       "⎢                  ⎥\n",
       "⎣A₃₀  A₃₁  A₃₂  A₃₃⎦"
      ]
     },
     "execution_count": 44,
     "metadata": {},
     "output_type": "execute_result"
    }
   ],
   "source": [
    "from sympy import MatrixSymbol, Matrix\n",
    "A = MatrixSymbol('A', 4, 4).as_explicit()\n",
    "A"
   ]
  },
  {
   "cell_type": "code",
   "execution_count": 45,
   "metadata": {},
   "outputs": [
    {
     "data": {
      "image/png": "[encoded data removed]",
      "text/latex": [
       "$\\displaystyle A_{0, 0} A_{1, 1} A_{2, 2} A_{3, 3} - A_{0, 0} A_{1, 1} A_{2, 3} A_{3, 2} - A_{0, 0} A_{1, 2} A_{2, 1} A_{3, 3} + A_{0, 0} A_{1, 2} A_{2, 3} A_{3, 1} + A_{0, 0} A_{1, 3} A_{2, 1} A_{3, 2} - A_{0, 0} A_{1, 3} A_{2, 2} A_{3, 1} - A_{0, 1} A_{1, 0} A_{2, 2} A_{3, 3} + A_{0, 1} A_{1, 0} A_{2, 3} A_{3, 2} + A_{0, 1} A_{1, 2} A_{2, 0} A_{3, 3} - A_{0, 1} A_{1, 2} A_{2, 3} A_{3, 0} - A_{0, 1} A_{1, 3} A_{2, 0} A_{3, 2} + A_{0, 1} A_{1, 3} A_{2, 2} A_{3, 0} + A_{0, 2} A_{1, 0} A_{2, 1} A_{3, 3} - A_{0, 2} A_{1, 0} A_{2, 3} A_{3, 1} - A_{0, 2} A_{1, 1} A_{2, 0} A_{3, 3} + A_{0, 2} A_{1, 1} A_{2, 3} A_{3, 0} + A_{0, 2} A_{1, 3} A_{2, 0} A_{3, 1} - A_{0, 2} A_{1, 3} A_{2, 1} A_{3, 0} - A_{0, 3} A_{1, 0} A_{2, 1} A_{3, 2} + A_{0, 3} A_{1, 0} A_{2, 2} A_{3, 1} + A_{0, 3} A_{1, 1} A_{2, 0} A_{3, 2} - A_{0, 3} A_{1, 1} A_{2, 2} A_{3, 0} - A_{0, 3} A_{1, 2} A_{2, 0} A_{3, 1} + A_{0, 3} A_{1, 2} A_{2, 1} A_{3, 0}$"
      ],
      "text/plain": [
       "A₀₀⋅A₁₁⋅A₂₂⋅A₃₃ - A₀₀⋅A₁₁⋅A₂₃⋅A₃₂ - A₀₀⋅A₁₂⋅A₂₁⋅A₃₃ + A₀₀⋅A₁₂⋅A₂₃⋅A₃₁ + A₀₀⋅A₁\n",
       "₃⋅A₂₁⋅A₃₂ - A₀₀⋅A₁₃⋅A₂₂⋅A₃₁ - A₀₁⋅A₁₀⋅A₂₂⋅A₃₃ + A₀₁⋅A₁₀⋅A₂₃⋅A₃₂ + A₀₁⋅A₁₂⋅A₂₀⋅\n",
       "A₃₃ - A₀₁⋅A₁₂⋅A₂₃⋅A₃₀ - A₀₁⋅A₁₃⋅A₂₀⋅A₃₂ + A₀₁⋅A₁₃⋅A₂₂⋅A₃₀ + A₀₂⋅A₁₀⋅A₂₁⋅A₃₃ - \n",
       "A₀₂⋅A₁₀⋅A₂₃⋅A₃₁ - A₀₂⋅A₁₁⋅A₂₀⋅A₃₃ + A₀₂⋅A₁₁⋅A₂₃⋅A₃₀ + A₀₂⋅A₁₃⋅A₂₀⋅A₃₁ - A₀₂⋅A₁\n",
       "₃⋅A₂₁⋅A₃₀ - A₀₃⋅A₁₀⋅A₂₁⋅A₃₂ + A₀₃⋅A₁₀⋅A₂₂⋅A₃₁ + A₀₃⋅A₁₁⋅A₂₀⋅A₃₂ - A₀₃⋅A₁₁⋅A₂₂⋅\n",
       "A₃₀ - A₀₃⋅A₁₂⋅A₂₀⋅A₃₁ + A₀₃⋅A₁₂⋅A₂₁⋅A₃₀"
      ]
     },
     "execution_count": 45,
     "metadata": {},
     "output_type": "execute_result"
    }
   ],
   "source": [
    "A.det()"
   ]
  },
  {
   "cell_type": "code",
   "execution_count": 24,
   "metadata": {},
   "outputs": [],
   "source": [
    "b = Matrix([2, 0, 2, 0])"
   ]
  },
  {
   "cell_type": "code",
   "execution_count": 43,
   "metadata": {},
   "outputs": [
    {
     "data": {
      "text/latex": [
       "$\\displaystyle \\left[\\begin{matrix}\\frac{2 A_{0, 1} A_{1, 2} A_{3, 3} - 2 A_{0, 1} A_{1, 3} A_{3, 2} - 2 A_{0, 2} A_{1, 1} A_{3, 3} + 2 A_{0, 2} A_{1, 3} A_{3, 1} + 2 A_{0, 3} A_{1, 1} A_{3, 2} - 2 A_{0, 3} A_{1, 2} A_{3, 1} + 2 A_{1, 1} A_{2, 2} A_{3, 3} - 2 A_{1, 1} A_{2, 3} A_{3, 2} - 2 A_{1, 2} A_{2, 1} A_{3, 3} + 2 A_{1, 2} A_{2, 3} A_{3, 1} + 2 A_{1, 3} A_{2, 1} A_{3, 2} - 2 A_{1, 3} A_{2, 2} A_{3, 1}}{A_{0, 0} A_{1, 1} A_{2, 2} A_{3, 3} - A_{0, 0} A_{1, 1} A_{2, 3} A_{3, 2} - A_{0, 0} A_{1, 2} A_{2, 1} A_{3, 3} + A_{0, 0} A_{1, 2} A_{2, 3} A_{3, 1} + A_{0, 0} A_{1, 3} A_{2, 1} A_{3, 2} - A_{0, 0} A_{1, 3} A_{2, 2} A_{3, 1} - A_{0, 1} A_{1, 0} A_{2, 2} A_{3, 3} + A_{0, 1} A_{1, 0} A_{2, 3} A_{3, 2} + A_{0, 1} A_{1, 2} A_{2, 0} A_{3, 3} - A_{0, 1} A_{1, 2} A_{2, 3} A_{3, 0} - A_{0, 1} A_{1, 3} A_{2, 0} A_{3, 2} + A_{0, 1} A_{1, 3} A_{2, 2} A_{3, 0} + A_{0, 2} A_{1, 0} A_{2, 1} A_{3, 3} - A_{0, 2} A_{1, 0} A_{2, 3} A_{3, 1} - A_{0, 2} A_{1, 1} A_{2, 0} A_{3, 3} + A_{0, 2} A_{1, 1} A_{2, 3} A_{3, 0} + A_{0, 2} A_{1, 3} A_{2, 0} A_{3, 1} - A_{0, 2} A_{1, 3} A_{2, 1} A_{3, 0} - A_{0, 3} A_{1, 0} A_{2, 1} A_{3, 2} + A_{0, 3} A_{1, 0} A_{2, 2} A_{3, 1} + A_{0, 3} A_{1, 1} A_{2, 0} A_{3, 2} - A_{0, 3} A_{1, 1} A_{2, 2} A_{3, 0} - A_{0, 3} A_{1, 2} A_{2, 0} A_{3, 1} + A_{0, 3} A_{1, 2} A_{2, 1} A_{3, 0}}\\\\\\frac{- 2 A_{0, 0} A_{1, 2} A_{3, 3} + 2 A_{0, 0} A_{1, 3} A_{3, 2} + 2 A_{0, 2} A_{1, 0} A_{3, 3} - 2 A_{0, 2} A_{1, 3} A_{3, 0} - 2 A_{0, 3} A_{1, 0} A_{3, 2} + 2 A_{0, 3} A_{1, 2} A_{3, 0} - 2 A_{1, 0} A_{2, 2} A_{3, 3} + 2 A_{1, 0} A_{2, 3} A_{3, 2} + 2 A_{1, 2} A_{2, 0} A_{3, 3} - 2 A_{1, 2} A_{2, 3} A_{3, 0} - 2 A_{1, 3} A_{2, 0} A_{3, 2} + 2 A_{1, 3} A_{2, 2} A_{3, 0}}{A_{0, 0} A_{1, 1} A_{2, 2} A_{3, 3} - A_{0, 0} A_{1, 1} A_{2, 3} A_{3, 2} - A_{0, 0} A_{1, 2} A_{2, 1} A_{3, 3} + A_{0, 0} A_{1, 2} A_{2, 3} A_{3, 1} + A_{0, 0} A_{1, 3} A_{2, 1} A_{3, 2} - A_{0, 0} A_{1, 3} A_{2, 2} A_{3, 1} - A_{0, 1} A_{1, 0} A_{2, 2} A_{3, 3} + A_{0, 1} A_{1, 0} A_{2, 3} A_{3, 2} + A_{0, 1} A_{1, 2} A_{2, 0} A_{3, 3} - A_{0, 1} A_{1, 2} A_{2, 3} A_{3, 0} - A_{0, 1} A_{1, 3} A_{2, 0} A_{3, 2} + A_{0, 1} A_{1, 3} A_{2, 2} A_{3, 0} + A_{0, 2} A_{1, 0} A_{2, 1} A_{3, 3} - A_{0, 2} A_{1, 0} A_{2, 3} A_{3, 1} - A_{0, 2} A_{1, 1} A_{2, 0} A_{3, 3} + A_{0, 2} A_{1, 1} A_{2, 3} A_{3, 0} + A_{0, 2} A_{1, 3} A_{2, 0} A_{3, 1} - A_{0, 2} A_{1, 3} A_{2, 1} A_{3, 0} - A_{0, 3} A_{1, 0} A_{2, 1} A_{3, 2} + A_{0, 3} A_{1, 0} A_{2, 2} A_{3, 1} + A_{0, 3} A_{1, 1} A_{2, 0} A_{3, 2} - A_{0, 3} A_{1, 1} A_{2, 2} A_{3, 0} - A_{0, 3} A_{1, 2} A_{2, 0} A_{3, 1} + A_{0, 3} A_{1, 2} A_{2, 1} A_{3, 0}}\\\\\\frac{2 A_{0, 0} A_{1, 1} A_{3, 3} - 2 A_{0, 0} A_{1, 3} A_{3, 1} - 2 A_{0, 1} A_{1, 0} A_{3, 3} + 2 A_{0, 1} A_{1, 3} A_{3, 0} + 2 A_{0, 3} A_{1, 0} A_{3, 1} - 2 A_{0, 3} A_{1, 1} A_{3, 0} + 2 A_{1, 0} A_{2, 1} A_{3, 3} - 2 A_{1, 0} A_{2, 3} A_{3, 1} - 2 A_{1, 1} A_{2, 0} A_{3, 3} + 2 A_{1, 1} A_{2, 3} A_{3, 0} + 2 A_{1, 3} A_{2, 0} A_{3, 1} - 2 A_{1, 3} A_{2, 1} A_{3, 0}}{A_{0, 0} A_{1, 1} A_{2, 2} A_{3, 3} - A_{0, 0} A_{1, 1} A_{2, 3} A_{3, 2} - A_{0, 0} A_{1, 2} A_{2, 1} A_{3, 3} + A_{0, 0} A_{1, 2} A_{2, 3} A_{3, 1} + A_{0, 0} A_{1, 3} A_{2, 1} A_{3, 2} - A_{0, 0} A_{1, 3} A_{2, 2} A_{3, 1} - A_{0, 1} A_{1, 0} A_{2, 2} A_{3, 3} + A_{0, 1} A_{1, 0} A_{2, 3} A_{3, 2} + A_{0, 1} A_{1, 2} A_{2, 0} A_{3, 3} - A_{0, 1} A_{1, 2} A_{2, 3} A_{3, 0} - A_{0, 1} A_{1, 3} A_{2, 0} A_{3, 2} + A_{0, 1} A_{1, 3} A_{2, 2} A_{3, 0} + A_{0, 2} A_{1, 0} A_{2, 1} A_{3, 3} - A_{0, 2} A_{1, 0} A_{2, 3} A_{3, 1} - A_{0, 2} A_{1, 1} A_{2, 0} A_{3, 3} + A_{0, 2} A_{1, 1} A_{2, 3} A_{3, 0} + A_{0, 2} A_{1, 3} A_{2, 0} A_{3, 1} - A_{0, 2} A_{1, 3} A_{2, 1} A_{3, 0} - A_{0, 3} A_{1, 0} A_{2, 1} A_{3, 2} + A_{0, 3} A_{1, 0} A_{2, 2} A_{3, 1} + A_{0, 3} A_{1, 1} A_{2, 0} A_{3, 2} - A_{0, 3} A_{1, 1} A_{2, 2} A_{3, 0} - A_{0, 3} A_{1, 2} A_{2, 0} A_{3, 1} + A_{0, 3} A_{1, 2} A_{2, 1} A_{3, 0}}\\\\\\frac{- 2 A_{0, 0} A_{1, 1} A_{3, 2} + 2 A_{0, 0} A_{1, 2} A_{3, 1} + 2 A_{0, 1} A_{1, 0} A_{3, 2} - 2 A_{0, 1} A_{1, 2} A_{3, 0} - 2 A_{0, 2} A_{1, 0} A_{3, 1} + 2 A_{0, 2} A_{1, 1} A_{3, 0} - 2 A_{1, 0} A_{2, 1} A_{3, 2} + 2 A_{1, 0} A_{2, 2} A_{3, 1} + 2 A_{1, 1} A_{2, 0} A_{3, 2} - 2 A_{1, 1} A_{2, 2} A_{3, 0} - 2 A_{1, 2} A_{2, 0} A_{3, 1} + 2 A_{1, 2} A_{2, 1} A_{3, 0}}{A_{0, 0} A_{1, 1} A_{2, 2} A_{3, 3} - A_{0, 0} A_{1, 1} A_{2, 3} A_{3, 2} - A_{0, 0} A_{1, 2} A_{2, 1} A_{3, 3} + A_{0, 0} A_{1, 2} A_{2, 3} A_{3, 1} + A_{0, 0} A_{1, 3} A_{2, 1} A_{3, 2} - A_{0, 0} A_{1, 3} A_{2, 2} A_{3, 1} - A_{0, 1} A_{1, 0} A_{2, 2} A_{3, 3} + A_{0, 1} A_{1, 0} A_{2, 3} A_{3, 2} + A_{0, 1} A_{1, 2} A_{2, 0} A_{3, 3} - A_{0, 1} A_{1, 2} A_{2, 3} A_{3, 0} - A_{0, 1} A_{1, 3} A_{2, 0} A_{3, 2} + A_{0, 1} A_{1, 3} A_{2, 2} A_{3, 0} + A_{0, 2} A_{1, 0} A_{2, 1} A_{3, 3} - A_{0, 2} A_{1, 0} A_{2, 3} A_{3, 1} - A_{0, 2} A_{1, 1} A_{2, 0} A_{3, 3} + A_{0, 2} A_{1, 1} A_{2, 3} A_{3, 0} + A_{0, 2} A_{1, 3} A_{2, 0} A_{3, 1} - A_{0, 2} A_{1, 3} A_{2, 1} A_{3, 0} - A_{0, 3} A_{1, 0} A_{2, 1} A_{3, 2} + A_{0, 3} A_{1, 0} A_{2, 2} A_{3, 1} + A_{0, 3} A_{1, 1} A_{2, 0} A_{3, 2} - A_{0, 3} A_{1, 1} A_{2, 2} A_{3, 0} - A_{0, 3} A_{1, 2} A_{2, 0} A_{3, 1} + A_{0, 3} A_{1, 2} A_{2, 1} A_{3, 0}}\\end{matrix}\\right]$"
      ],
      "text/plain": [
       "⎡                                                                             \n",
       "⎢─────────────────────────────────────────────────────────────────────────────\n",
       "⎢A₀₀⋅A₁₁⋅A₂₂⋅A₃₃ - A₀₀⋅A₁₁⋅A₂₃⋅A₃₂ - A₀₀⋅A₁₂⋅A₂₁⋅A₃₃ + A₀₀⋅A₁₂⋅A₂₃⋅A₃₁ + A₀₀⋅A\n",
       "⎢                                                                             \n",
       "⎢                                                                             \n",
       "⎢─────────────────────────────────────────────────────────────────────────────\n",
       "⎢A₀₀⋅A₁₁⋅A₂₂⋅A₃₃ - A₀₀⋅A₁₁⋅A₂₃⋅A₃₂ - A₀₀⋅A₁₂⋅A₂₁⋅A₃₃ + A₀₀⋅A₁₂⋅A₂₃⋅A₃₁ + A₀₀⋅A\n",
       "⎢                                                                             \n",
       "⎢                                                                             \n",
       "⎢─────────────────────────────────────────────────────────────────────────────\n",
       "⎢A₀₀⋅A₁₁⋅A₂₂⋅A₃₃ - A₀₀⋅A₁₁⋅A₂₃⋅A₃₂ - A₀₀⋅A₁₂⋅A₂₁⋅A₃₃ + A₀₀⋅A₁₂⋅A₂₃⋅A₃₁ + A₀₀⋅A\n",
       "⎢                                                                             \n",
       "⎢                                                                             \n",
       "⎢─────────────────────────────────────────────────────────────────────────────\n",
       "⎣A₀₀⋅A₁₁⋅A₂₂⋅A₃₃ - A₀₀⋅A₁₁⋅A₂₃⋅A₃₂ - A₀₀⋅A₁₂⋅A₂₁⋅A₃₃ + A₀₀⋅A₁₂⋅A₂₃⋅A₃₁ + A₀₀⋅A\n",
       "\n",
       "                                           2⋅A₀₁⋅A₁₂⋅A₃₃ - 2⋅A₀₁⋅A₁₃⋅A₃₂ - 2⋅A\n",
       "──────────────────────────────────────────────────────────────────────────────\n",
       "₁₃⋅A₂₁⋅A₃₂ - A₀₀⋅A₁₃⋅A₂₂⋅A₃₁ - A₀₁⋅A₁₀⋅A₂₂⋅A₃₃ + A₀₁⋅A₁₀⋅A₂₃⋅A₃₂ + A₀₁⋅A₁₂⋅A₂₀\n",
       "                                                                              \n",
       "                                           -2⋅A₀₀⋅A₁₂⋅A₃₃ + 2⋅A₀₀⋅A₁₃⋅A₃₂ + 2⋅\n",
       "──────────────────────────────────────────────────────────────────────────────\n",
       "₁₃⋅A₂₁⋅A₃₂ - A₀₀⋅A₁₃⋅A₂₂⋅A₃₁ - A₀₁⋅A₁₀⋅A₂₂⋅A₃₃ + A₀₁⋅A₁₀⋅A₂₃⋅A₃₂ + A₀₁⋅A₁₂⋅A₂₀\n",
       "                                                                              \n",
       "                                           2⋅A₀₀⋅A₁₁⋅A₃₃ - 2⋅A₀₀⋅A₁₃⋅A₃₁ - 2⋅A\n",
       "──────────────────────────────────────────────────────────────────────────────\n",
       "₁₃⋅A₂₁⋅A₃₂ - A₀₀⋅A₁₃⋅A₂₂⋅A₃₁ - A₀₁⋅A₁₀⋅A₂₂⋅A₃₃ + A₀₁⋅A₁₀⋅A₂₃⋅A₃₂ + A₀₁⋅A₁₂⋅A₂₀\n",
       "                                                                              \n",
       "                                           -2⋅A₀₀⋅A₁₁⋅A₃₂ + 2⋅A₀₀⋅A₁₂⋅A₃₁ + 2⋅\n",
       "──────────────────────────────────────────────────────────────────────────────\n",
       "₁₃⋅A₂₁⋅A₃₂ - A₀₀⋅A₁₃⋅A₂₂⋅A₃₁ - A₀₁⋅A₁₀⋅A₂₂⋅A₃₃ + A₀₁⋅A₁₀⋅A₂₃⋅A₃₂ + A₀₁⋅A₁₂⋅A₂₀\n",
       "\n",
       "₀₂⋅A₁₁⋅A₃₃ + 2⋅A₀₂⋅A₁₃⋅A₃₁ + 2⋅A₀₃⋅A₁₁⋅A₃₂ - 2⋅A₀₃⋅A₁₂⋅A₃₁ + 2⋅A₁₁⋅A₂₂⋅A₃₃ - 2\n",
       "──────────────────────────────────────────────────────────────────────────────\n",
       "⋅A₃₃ - A₀₁⋅A₁₂⋅A₂₃⋅A₃₀ - A₀₁⋅A₁₃⋅A₂₀⋅A₃₂ + A₀₁⋅A₁₃⋅A₂₂⋅A₃₀ + A₀₂⋅A₁₀⋅A₂₁⋅A₃₃ -\n",
       "                                                                              \n",
       "A₀₂⋅A₁₀⋅A₃₃ - 2⋅A₀₂⋅A₁₃⋅A₃₀ - 2⋅A₀₃⋅A₁₀⋅A₃₂ + 2⋅A₀₃⋅A₁₂⋅A₃₀ - 2⋅A₁₀⋅A₂₂⋅A₃₃ + \n",
       "──────────────────────────────────────────────────────────────────────────────\n",
       "⋅A₃₃ - A₀₁⋅A₁₂⋅A₂₃⋅A₃₀ - A₀₁⋅A₁₃⋅A₂₀⋅A₃₂ + A₀₁⋅A₁₃⋅A₂₂⋅A₃₀ + A₀₂⋅A₁₀⋅A₂₁⋅A₃₃ -\n",
       "                                                                              \n",
       "₀₁⋅A₁₀⋅A₃₃ + 2⋅A₀₁⋅A₁₃⋅A₃₀ + 2⋅A₀₃⋅A₁₀⋅A₃₁ - 2⋅A₀₃⋅A₁₁⋅A₃₀ + 2⋅A₁₀⋅A₂₁⋅A₃₃ - 2\n",
       "──────────────────────────────────────────────────────────────────────────────\n",
       "⋅A₃₃ - A₀₁⋅A₁₂⋅A₂₃⋅A₃₀ - A₀₁⋅A₁₃⋅A₂₀⋅A₃₂ + A₀₁⋅A₁₃⋅A₂₂⋅A₃₀ + A₀₂⋅A₁₀⋅A₂₁⋅A₃₃ -\n",
       "                                                                              \n",
       "A₀₁⋅A₁₀⋅A₃₂ - 2⋅A₀₁⋅A₁₂⋅A₃₀ - 2⋅A₀₂⋅A₁₀⋅A₃₁ + 2⋅A₀₂⋅A₁₁⋅A₃₀ - 2⋅A₁₀⋅A₂₁⋅A₃₂ + \n",
       "──────────────────────────────────────────────────────────────────────────────\n",
       "⋅A₃₃ - A₀₁⋅A₁₂⋅A₂₃⋅A₃₀ - A₀₁⋅A₁₃⋅A₂₀⋅A₃₂ + A₀₁⋅A₁₃⋅A₂₂⋅A₃₀ + A₀₂⋅A₁₀⋅A₂₁⋅A₃₃ -\n",
       "\n",
       "⋅A₁₁⋅A₂₃⋅A₃₂ - 2⋅A₁₂⋅A₂₁⋅A₃₃ + 2⋅A₁₂⋅A₂₃⋅A₃₁ + 2⋅A₁₃⋅A₂₁⋅A₃₂ - 2⋅A₁₃⋅A₂₂⋅A₃₁  \n",
       "──────────────────────────────────────────────────────────────────────────────\n",
       " A₀₂⋅A₁₀⋅A₂₃⋅A₃₁ - A₀₂⋅A₁₁⋅A₂₀⋅A₃₃ + A₀₂⋅A₁₁⋅A₂₃⋅A₃₀ + A₀₂⋅A₁₃⋅A₂₀⋅A₃₁ - A₀₂⋅A\n",
       "                                                                              \n",
       "2⋅A₁₀⋅A₂₃⋅A₃₂ + 2⋅A₁₂⋅A₂₀⋅A₃₃ - 2⋅A₁₂⋅A₂₃⋅A₃₀ - 2⋅A₁₃⋅A₂₀⋅A₃₂ + 2⋅A₁₃⋅A₂₂⋅A₃₀ \n",
       "──────────────────────────────────────────────────────────────────────────────\n",
       " A₀₂⋅A₁₀⋅A₂₃⋅A₃₁ - A₀₂⋅A₁₁⋅A₂₀⋅A₃₃ + A₀₂⋅A₁₁⋅A₂₃⋅A₃₀ + A₀₂⋅A₁₃⋅A₂₀⋅A₃₁ - A₀₂⋅A\n",
       "                                                                              \n",
       "⋅A₁₀⋅A₂₃⋅A₃₁ - 2⋅A₁₁⋅A₂₀⋅A₃₃ + 2⋅A₁₁⋅A₂₃⋅A₃₀ + 2⋅A₁₃⋅A₂₀⋅A₃₁ - 2⋅A₁₃⋅A₂₁⋅A₃₀  \n",
       "──────────────────────────────────────────────────────────────────────────────\n",
       " A₀₂⋅A₁₀⋅A₂₃⋅A₃₁ - A₀₂⋅A₁₁⋅A₂₀⋅A₃₃ + A₀₂⋅A₁₁⋅A₂₃⋅A₃₀ + A₀₂⋅A₁₃⋅A₂₀⋅A₃₁ - A₀₂⋅A\n",
       "                                                                              \n",
       "2⋅A₁₀⋅A₂₂⋅A₃₁ + 2⋅A₁₁⋅A₂₀⋅A₃₂ - 2⋅A₁₁⋅A₂₂⋅A₃₀ - 2⋅A₁₂⋅A₂₀⋅A₃₁ + 2⋅A₁₂⋅A₂₁⋅A₃₀ \n",
       "──────────────────────────────────────────────────────────────────────────────\n",
       " A₀₂⋅A₁₀⋅A₂₃⋅A₃₁ - A₀₂⋅A₁₁⋅A₂₀⋅A₃₃ + A₀₂⋅A₁₁⋅A₂₃⋅A₃₀ + A₀₂⋅A₁₃⋅A₂₀⋅A₃₁ - A₀₂⋅A\n",
       "\n",
       "                                                                              \n",
       "──────────────────────────────────────────────────────────────────────────────\n",
       "₁₃⋅A₂₁⋅A₃₀ - A₀₃⋅A₁₀⋅A₂₁⋅A₃₂ + A₀₃⋅A₁₀⋅A₂₂⋅A₃₁ + A₀₃⋅A₁₁⋅A₂₀⋅A₃₂ - A₀₃⋅A₁₁⋅A₂₂\n",
       "                                                                              \n",
       "                                                                              \n",
       "──────────────────────────────────────────────────────────────────────────────\n",
       "₁₃⋅A₂₁⋅A₃₀ - A₀₃⋅A₁₀⋅A₂₁⋅A₃₂ + A₀₃⋅A₁₀⋅A₂₂⋅A₃₁ + A₀₃⋅A₁₁⋅A₂₀⋅A₃₂ - A₀₃⋅A₁₁⋅A₂₂\n",
       "                                                                              \n",
       "                                                                              \n",
       "──────────────────────────────────────────────────────────────────────────────\n",
       "₁₃⋅A₂₁⋅A₃₀ - A₀₃⋅A₁₀⋅A₂₁⋅A₃₂ + A₀₃⋅A₁₀⋅A₂₂⋅A₃₁ + A₀₃⋅A₁₁⋅A₂₀⋅A₃₂ - A₀₃⋅A₁₁⋅A₂₂\n",
       "                                                                              \n",
       "                                                                              \n",
       "──────────────────────────────────────────────────────────────────────────────\n",
       "₁₃⋅A₂₁⋅A₃₀ - A₀₃⋅A₁₀⋅A₂₁⋅A₃₂ + A₀₃⋅A₁₀⋅A₂₂⋅A₃₁ + A₀₃⋅A₁₁⋅A₂₀⋅A₃₂ - A₀₃⋅A₁₁⋅A₂₂\n",
       "\n",
       "                                        ⎤\n",
       "────────────────────────────────────────⎥\n",
       "⋅A₃₀ - A₀₃⋅A₁₂⋅A₂₀⋅A₃₁ + A₀₃⋅A₁₂⋅A₂₁⋅A₃₀⎥\n",
       "                                        ⎥\n",
       "                                        ⎥\n",
       "────────────────────────────────────────⎥\n",
       "⋅A₃₀ - A₀₃⋅A₁₂⋅A₂₀⋅A₃₁ + A₀₃⋅A₁₂⋅A₂₁⋅A₃₀⎥\n",
       "                                        ⎥\n",
       "                                        ⎥\n",
       "────────────────────────────────────────⎥\n",
       "⋅A₃₀ - A₀₃⋅A₁₂⋅A₂₀⋅A₃₁ + A₀₃⋅A₁₂⋅A₂₁⋅A₃₀⎥\n",
       "                                        ⎥\n",
       "                                        ⎥\n",
       "────────────────────────────────────────⎥\n",
       "⋅A₃₀ - A₀₃⋅A₁₂⋅A₂₀⋅A₃₁ + A₀₃⋅A₁₂⋅A₂₁⋅A₃₀⎦"
      ]
     },
     "execution_count": 43,
     "metadata": {},
     "output_type": "execute_result"
    }
   ],
   "source": [
    "A.solve(b)"
   ]
  },
  {
   "cell_type": "code",
   "execution_count": 42,
   "metadata": {},
   "outputs": [
    {
     "data": {
      "image/png": "[encoded data removed]",
      "text/latex": [
       "$\\displaystyle A_{0, 0} A_{1, 1} - A_{0, 1} A_{1, 0}$"
      ],
      "text/plain": [
       "A₀₀⋅A₁₁ - A₀₁⋅A₁₀"
      ]
     },
     "execution_count": 42,
     "metadata": {},
     "output_type": "execute_result"
    }
   ],
   "source": [
    "A2 = MatrixSymbol('A', 2, 2).as_explicit()\n",
    "A2\n",
    "A2.det()"
   ]
  },
  {
   "cell_type": "code",
   "execution_count": null,
   "metadata": {},
   "outputs": [],
   "source": [
    "b2 = Matrix([2, 0])\n",
    "A2.solve(b2)"
   ]
  },
  {
   "cell_type": "code",
   "execution_count": 41,
   "metadata": {},
   "outputs": [
    {
     "data": {
      "image/png": "[encoded data removed]",
      "text/latex": [
       "$\\displaystyle A_{0, 0} A_{1, 1} A_{2, 2} - A_{0, 0} A_{1, 2} A_{2, 1} - A_{0, 1} A_{1, 0} A_{2, 2} + A_{0, 1} A_{1, 2} A_{2, 0} + A_{0, 2} A_{1, 0} A_{2, 1} - A_{0, 2} A_{1, 1} A_{2, 0}$"
      ],
      "text/plain": [
       "A₀₀⋅A₁₁⋅A₂₂ - A₀₀⋅A₁₂⋅A₂₁ - A₀₁⋅A₁₀⋅A₂₂ + A₀₁⋅A₁₂⋅A₂₀ + A₀₂⋅A₁₀⋅A₂₁ - A₀₂⋅A₁₁⋅\n",
       "A₂₀"
      ]
     },
     "execution_count": 41,
     "metadata": {},
     "output_type": "execute_result"
    }
   ],
   "source": [
    "A3 = MatrixSymbol('A', 3, 3).as_explicit()\n",
    "A3.det()"
   ]
  },
  {
   "cell_type": "code",
   "execution_count": 40,
   "metadata": {},
   "outputs": [
    {
     "data": {
      "text/latex": [
       "$\\displaystyle \\left[\\begin{matrix}\\frac{2 A_{0, 1} A_{1, 2} - 2 A_{0, 2} A_{1, 1} + 2 A_{1, 1} A_{2, 2} - 2 A_{1, 2} A_{2, 1}}{A_{0, 0} A_{1, 1} A_{2, 2} - A_{0, 0} A_{1, 2} A_{2, 1} - A_{0, 1} A_{1, 0} A_{2, 2} + A_{0, 1} A_{1, 2} A_{2, 0} + A_{0, 2} A_{1, 0} A_{2, 1} - A_{0, 2} A_{1, 1} A_{2, 0}}\\\\\\frac{- 2 A_{0, 0} A_{1, 2} + 2 A_{0, 2} A_{1, 0} - 2 A_{1, 0} A_{2, 2} + 2 A_{1, 2} A_{2, 0}}{A_{0, 0} A_{1, 1} A_{2, 2} - A_{0, 0} A_{1, 2} A_{2, 1} - A_{0, 1} A_{1, 0} A_{2, 2} + A_{0, 1} A_{1, 2} A_{2, 0} + A_{0, 2} A_{1, 0} A_{2, 1} - A_{0, 2} A_{1, 1} A_{2, 0}}\\\\\\frac{2 A_{0, 0} A_{1, 1} - 2 A_{0, 1} A_{1, 0} + 2 A_{1, 0} A_{2, 1} - 2 A_{1, 1} A_{2, 0}}{A_{0, 0} A_{1, 1} A_{2, 2} - A_{0, 0} A_{1, 2} A_{2, 1} - A_{0, 1} A_{1, 0} A_{2, 2} + A_{0, 1} A_{1, 2} A_{2, 0} + A_{0, 2} A_{1, 0} A_{2, 1} - A_{0, 2} A_{1, 1} A_{2, 0}}\\end{matrix}\\right]$"
      ],
      "text/plain": [
       "⎡                  2⋅A₀₁⋅A₁₂ - 2⋅A₀₂⋅A₁₁ + 2⋅A₁₁⋅A₂₂ - 2⋅A₁₂⋅A₂₁              \n",
       "⎢─────────────────────────────────────────────────────────────────────────────\n",
       "⎢A₀₀⋅A₁₁⋅A₂₂ - A₀₀⋅A₁₂⋅A₂₁ - A₀₁⋅A₁₀⋅A₂₂ + A₀₁⋅A₁₂⋅A₂₀ + A₀₂⋅A₁₀⋅A₂₁ - A₀₂⋅A₁₁\n",
       "⎢                                                                             \n",
       "⎢                  -2⋅A₀₀⋅A₁₂ + 2⋅A₀₂⋅A₁₀ - 2⋅A₁₀⋅A₂₂ + 2⋅A₁₂⋅A₂₀             \n",
       "⎢─────────────────────────────────────────────────────────────────────────────\n",
       "⎢A₀₀⋅A₁₁⋅A₂₂ - A₀₀⋅A₁₂⋅A₂₁ - A₀₁⋅A₁₀⋅A₂₂ + A₀₁⋅A₁₂⋅A₂₀ + A₀₂⋅A₁₀⋅A₂₁ - A₀₂⋅A₁₁\n",
       "⎢                                                                             \n",
       "⎢                  2⋅A₀₀⋅A₁₁ - 2⋅A₀₁⋅A₁₀ + 2⋅A₁₀⋅A₂₁ - 2⋅A₁₁⋅A₂₀              \n",
       "⎢─────────────────────────────────────────────────────────────────────────────\n",
       "⎣A₀₀⋅A₁₁⋅A₂₂ - A₀₀⋅A₁₂⋅A₂₁ - A₀₁⋅A₁₀⋅A₂₂ + A₀₁⋅A₁₂⋅A₂₀ + A₀₂⋅A₁₀⋅A₂₁ - A₀₂⋅A₁₁\n",
       "\n",
       "    ⎤\n",
       "────⎥\n",
       "⋅A₂₀⎥\n",
       "    ⎥\n",
       "    ⎥\n",
       "────⎥\n",
       "⋅A₂₀⎥\n",
       "    ⎥\n",
       "    ⎥\n",
       "────⎥\n",
       "⋅A₂₀⎦"
      ]
     },
     "execution_count": 40,
     "metadata": {},
     "output_type": "execute_result"
    }
   ],
   "source": [
    "b3 = Matrix([2, 0, 2])\n",
    "A3.solve(b3)"
   ]
  }
 ],
 "metadata": {
  "kernelspec": {
   "display_name": "Python 3.9.7",
   "language": "python",
   "name": "python3"
  },
  "language_info": {
   "codemirror_mode": {
    "name": "ipython",
    "version": 3
   },
   "file_extension": ".py",
   "mimetype": "text/x-python",
   "name": "python",
   "nbconvert_exporter": "python",
   "pygments_lexer": "ipython3",
   "version": "3.9.7"
  },
  "orig_nbformat": 4,
  "vscode": {
   "interpreter": {
    "hash": "a805e4787fe41e208b9e9ee3ee0be5f857b11e5edac61fba9adbad0693aa92c1"
   }
  }
 },
 "nbformat": 4,
 "nbformat_minor": 2
}
