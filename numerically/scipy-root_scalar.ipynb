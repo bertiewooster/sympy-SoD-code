{
 "cells": [
  {
   "cell_type": "code",
   "execution_count": 1,
   "metadata": {},
   "outputs": [
    {
     "data": {
      "text/latex": [
       "$\\displaystyle \\cos{\\left(\\frac{x \\left(x + 1\\right)}{2} \\right)}$"
      ],
      "text/plain": [
       "cos(x*(x + 1)/2)"
      ]
     },
     "execution_count": 1,
     "metadata": {},
     "output_type": "execute_result"
    }
   ],
   "source": [
    "from sympy import simplify, cos, sin\n",
    "from sympy.abc import x, y\n",
    "expr = cos(x * (x + x**2)/(x*sin(y)**2 + x*cos(y)**2 + x))\n",
    "simplify(expr)\n",
    "#cos(x*(x + 1)/2)"
   ]
  },
  {
   "cell_type": "code",
   "execution_count": 3,
   "metadata": {},
   "outputs": [
    {
     "data": {
      "text/plain": [
       "1.3416277185114782"
      ]
     },
     "execution_count": 3,
     "metadata": {},
     "output_type": "execute_result"
    }
   ],
   "source": [
    "from sympy.utilities.lambdify import implemented_function\n",
    "from sympy import lambdify\n",
    "f = implemented_function('f', lambda x: cos(x*(x + 1)/2))\n",
    "lam_f = lambdify(x, f(x))\n",
    "from scipy import optimize\n",
    "sol = optimize.root_scalar(lam_f, bracket=[0, 2], method='brentq')\n",
    "sol.root\n",
    "#1.3416277185114782"
   ]
  }
 ],
 "metadata": {
  "kernelspec": {
   "display_name": "Python 3.9.7 ('base')",
   "language": "python",
   "name": "python3"
  },
  "language_info": {
   "codemirror_mode": {
    "name": "ipython",
    "version": 3
   },
   "file_extension": ".py",
   "mimetype": "text/x-python",
   "name": "python",
   "nbconvert_exporter": "python",
   "pygments_lexer": "ipython3",
   "version": "3.9.7"
  },
  "orig_nbformat": 4,
  "vscode": {
   "interpreter": {
    "hash": "a805e4787fe41e208b9e9ee3ee0be5f857b11e5edac61fba9adbad0693aa92c1"
   }
  }
 },
 "nbformat": 4,
 "nbformat_minor": 2
}
