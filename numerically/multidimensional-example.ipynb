{
 "cells": [
  {
   "cell_type": "code",
   "execution_count": 1,
   "metadata": {},
   "outputs": [
    {
     "data": {
      "text/latex": [
       "$\\displaystyle \\left[\\begin{matrix}-1.19287309935246\\\\1.27844411169911\\end{matrix}\\right]$"
      ],
      "text/plain": [
       "Matrix([\n",
       "[-1.19287309935246],\n",
       "[ 1.27844411169911]])"
      ]
     },
     "execution_count": 1,
     "metadata": {},
     "output_type": "execute_result"
    }
   ],
   "source": [
    "from sympy import Symbol, nsolve\n",
    "x1 = Symbol('x1')\n",
    "x2 = Symbol('x2')\n",
    "f1 = 3 * x1**2 - 2 * x2**2 - 1\n",
    "f2 = x1**2 - 2 * x1 + x2**2 + 2 * x2 - 8\n",
    "nsolve((f1, f2), (x1, x2), (-1, 1))\n",
    "#Matrix([[-1.19287309935246], [1.27844411169911]])"
   ]
  }
 ],
 "metadata": {
  "kernelspec": {
   "display_name": "Python 3.9.7 ('base')",
   "language": "python",
   "name": "python3"
  },
  "language_info": {
   "codemirror_mode": {
    "name": "ipython",
    "version": 3
   },
   "file_extension": ".py",
   "mimetype": "text/x-python",
   "name": "python",
   "nbconvert_exporter": "python",
   "pygments_lexer": "ipython3",
   "version": "3.9.7"
  },
  "orig_nbformat": 4,
  "vscode": {
   "interpreter": {
    "hash": "a805e4787fe41e208b9e9ee3ee0be5f857b11e5edac61fba9adbad0693aa92c1"
   }
  }
 },
 "nbformat": 4,
 "nbformat_minor": 2
}
