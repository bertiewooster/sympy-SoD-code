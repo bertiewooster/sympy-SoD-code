{
 "cells": [
  {
   "cell_type": "code",
   "execution_count": 1,
   "metadata": {},
   "outputs": [
    {
     "data": {
      "text/latex": [
       "$\\displaystyle \\left[\\begin{matrix}1.0\\\\2.16227766016838\\end{matrix}\\right]$"
      ],
      "text/plain": [
       "Matrix([\n",
       "[             1.0],\n",
       "[2.16227766016838]])"
      ]
     },
     "execution_count": 1,
     "metadata": {},
     "output_type": "execute_result"
    }
   ],
   "source": [
    "# from sympy import nsolve, cos\n",
    "# from sympy.abc import x\n",
    "# nsolve(cos(x) - x, x, 2)\n",
    "#0.739085133215161\n",
    "\n",
    "from sympy import Symbol, nsolve\n",
    "# import mpmath\n",
    "# mpmath.mp.dps = 15\n",
    "x1 = Symbol('x1')\n",
    "x2 = Symbol('x2')\n",
    "f1 = 3 * x1**2 - 2 * x2**2 - 1\n",
    "f2 = x1**2 - 2 * x1 + x2**2 + 2 * x2 - 8\n",
    "nsolve((x1 - 1, f2), (x1, x2), (-1, 1))"
   ]
  }
 ],
 "metadata": {
  "kernelspec": {
   "display_name": "Python 3.9.7 ('base')",
   "language": "python",
   "name": "python3"
  },
  "language_info": {
   "codemirror_mode": {
    "name": "ipython",
    "version": 3
   },
   "file_extension": ".py",
   "mimetype": "text/x-python",
   "name": "python",
   "nbconvert_exporter": "python",
   "pygments_lexer": "ipython3",
   "version": "3.9.7"
  },
  "orig_nbformat": 4,
  "vscode": {
   "interpreter": {
    "hash": "a805e4787fe41e208b9e9ee3ee0be5f857b11e5edac61fba9adbad0693aa92c1"
   }
  }
 },
 "nbformat": 4,
 "nbformat_minor": 2
}
