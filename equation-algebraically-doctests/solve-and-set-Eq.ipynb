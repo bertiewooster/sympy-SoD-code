{
 "cells": [
  {
   "cell_type": "code",
   "execution_count": 1,
   "metadata": {},
   "outputs": [
    {
     "name": "stdout",
     "output_type": "stream",
     "text": [
      "sqrt(y)\n",
      "-sqrt(y)\n"
     ]
    }
   ],
   "source": [
    "from sympy import Eq, solve, solveset\n",
    "from sympy.abc import x, y\n",
    "\n",
    "eqn = Eq(x**2, y)\n",
    "eqn\n",
    "solutions = solve(eqn, x, dict=True)\n",
    "solutions\n",
    "solutions_set = solveset(eqn, x)\n",
    "solutions_set\n",
    "for solution_set in solutions_set:\n",
    "    print(solution_set)\n"
   ]
  }
 ],
 "metadata": {
  "kernelspec": {
   "display_name": "Python 3.9.7",
   "language": "python",
   "name": "python3"
  },
  "language_info": {
   "codemirror_mode": {
    "name": "ipython",
    "version": 3
   },
   "file_extension": ".py",
   "mimetype": "text/x-python",
   "name": "python",
   "nbconvert_exporter": "python",
   "pygments_lexer": "ipython3",
   "version": "3.9.7"
  },
  "orig_nbformat": 4,
  "vscode": {
   "interpreter": {
    "hash": "a805e4787fe41e208b9e9ee3ee0be5f857b11e5edac61fba9adbad0693aa92c1"
   }
  }
 },
 "nbformat": 4,
 "nbformat_minor": 2
}
