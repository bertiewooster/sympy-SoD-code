{
 "cells": [
  {
   "cell_type": "code",
   "execution_count": 1,
   "metadata": {},
   "outputs": [
    {
     "name": "stdout",
     "output_type": "stream",
     "text": [
      "[{x: -sqrt(y)}, {x: sqrt(y)}]\n",
      "{-sqrt(y), sqrt(y)}\n",
      "sqrt(y)\n",
      "-sqrt(y)\n"
     ]
    }
   ],
   "source": [
    "from sympy import Eq, solve, solveset\n",
    "from sympy.abc import x, y\n",
    "\n",
    "eqn = Eq(x**2, y)\n",
    "eqn\n",
    "solutions = solve(eqn, x, dict=True)\n",
    "print(solutions)\n",
    "solutions_set = solveset(eqn, x)\n",
    "print(solutions_set)\n",
    "for solution_set in solutions_set:\n",
    "    print(solution_set)\n"
   ]
  }
 ],
 "metadata": {
  "kernelspec": {
   "display_name": "Python 3.9.2 ('.venv': venv)",
   "language": "python",
   "name": "python3"
  },
  "language_info": {
   "codemirror_mode": {
    "name": "ipython",
    "version": 3
   },
   "file_extension": ".py",
   "mimetype": "text/x-python",
   "name": "python",
   "nbconvert_exporter": "python",
   "pygments_lexer": "ipython3",
   "version": "3.9.2"
  },
  "orig_nbformat": 4,
  "vscode": {
   "interpreter": {
    "hash": "074da002ab9b73d161da0bf5232578bd8f5ea7e31b7f1f5d6714e7804c963e0b"
   }
  }
 },
 "nbformat": 4,
 "nbformat_minor": 2
}
