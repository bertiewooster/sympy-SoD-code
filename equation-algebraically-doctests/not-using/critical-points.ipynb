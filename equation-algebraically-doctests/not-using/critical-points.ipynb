{
 "cells": [
  {
   "cell_type": "code",
   "execution_count": 1,
   "metadata": {},
   "outputs": [],
   "source": [
    "from sympy.abc import x\n",
    "from sympy import solve, diff"
   ]
  },
  {
   "cell_type": "code",
   "execution_count": 2,
   "metadata": {},
   "outputs": [
    {
     "name": "stdout",
     "output_type": "stream",
     "text": [
      "[{x: -1}, {x: 1/3}]\n"
     ]
    }
   ],
   "source": [
    "f = x**3 + x**2 - x\n",
    "derivative = diff(f, x)\n",
    "critical_points = solve(derivative, x, dict=True)\n",
    "print(critical_points)"
   ]
  },
  {
   "cell_type": "code",
   "execution_count": 3,
   "metadata": {},
   "outputs": [
    {
     "data": {
      "text/latex": [
       "$\\displaystyle - \\frac{5}{27}$"
      ],
      "text/plain": [
       "-5/27"
      ]
     },
     "execution_count": 3,
     "metadata": {},
     "output_type": "execute_result"
    }
   ],
   "source": [
    "point1, point2 = critical_points\n",
    "f.subs(point1)\n",
    "f.subs(point2)"
   ]
  }
 ],
 "metadata": {
  "kernelspec": {
   "display_name": "Python 3.9.2 ('.venv': venv)",
   "language": "python",
   "name": "python3"
  },
  "language_info": {
   "codemirror_mode": {
    "name": "ipython",
    "version": 3
   },
   "file_extension": ".py",
   "mimetype": "text/x-python",
   "name": "python",
   "nbconvert_exporter": "python",
   "pygments_lexer": "ipython3",
   "version": "3.9.2"
  },
  "orig_nbformat": 4,
  "vscode": {
   "interpreter": {
    "hash": "074da002ab9b73d161da0bf5232578bd8f5ea7e31b7f1f5d6714e7804c963e0b"
   }
  }
 },
 "nbformat": 4,
 "nbformat_minor": 2
}
