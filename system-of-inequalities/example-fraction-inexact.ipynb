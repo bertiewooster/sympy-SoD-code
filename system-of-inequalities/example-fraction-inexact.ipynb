{
 "cells": [
  {
   "cell_type": "code",
   "execution_count": 3,
   "metadata": {},
   "outputs": [
    {
     "data": {
      "text/latex": [
       "$\\displaystyle 0.333333333333333 \\leq x \\wedge x \\leq 1.77245385090552$"
      ],
      "text/plain": [
       "(0.333333333333333 <= x) & (x <= 1.77245385090552)"
      ]
     },
     "execution_count": 3,
     "metadata": {},
     "output_type": "execute_result"
    }
   ],
   "source": [
    "from sympy import symbols, solve, pi, Integer\n",
    "x = symbols('x')\n",
    "one_third = 1/3\n",
    "solve([x >= one_third, x**2 <= pi])\n",
    "#(0.333333333333333 <= x) & (x <= 1.77245385090552)"
   ]
  },
  {
   "cell_type": "code",
   "execution_count": 5,
   "metadata": {},
   "outputs": [
    {
     "data": {
      "text/latex": [
       "$\\displaystyle 1.4142135623731 \\leq x \\wedge x \\leq 1.77245385090552$"
      ],
      "text/plain": [
       "(1.4142135623731 <= x) & (x <= 1.77245385090552)"
      ]
     },
     "execution_count": 5,
     "metadata": {},
     "output_type": "execute_result"
    }
   ],
   "source": [
    "# Not currently using, but could--inexact vs. exact square root\n",
    "import math\n",
    "s2_numerical = math.sqrt(2)\n",
    "solve([x >= s2_numerical, x**2 <= pi])"
   ]
  },
  {
   "cell_type": "code",
   "execution_count": 7,
   "metadata": {},
   "outputs": [
    {
     "data": {
      "text/latex": [
       "$\\displaystyle \\sqrt{2} \\leq x \\wedge x \\leq \\sqrt{\\pi}$"
      ],
      "text/plain": [
       "(sqrt(2) <= x) & (x <= sqrt(pi))"
      ]
     },
     "execution_count": 7,
     "metadata": {},
     "output_type": "execute_result"
    }
   ],
   "source": [
    "from sympy import sqrt\n",
    "s2_exact = sqrt(2)\n",
    "solve([x >= s2_exact, x**2 <= pi])"
   ]
  }
 ],
 "metadata": {
  "kernelspec": {
   "display_name": "Python 3.9.7 ('base')",
   "language": "python",
   "name": "python3"
  },
  "language_info": {
   "codemirror_mode": {
    "name": "ipython",
    "version": 3
   },
   "file_extension": ".py",
   "mimetype": "text/x-python",
   "name": "python",
   "nbconvert_exporter": "python",
   "pygments_lexer": "ipython3",
   "version": "3.9.7"
  },
  "orig_nbformat": 4,
  "vscode": {
   "interpreter": {
    "hash": "a805e4787fe41e208b9e9ee3ee0be5f857b11e5edac61fba9adbad0693aa92c1"
   }
  }
 },
 "nbformat": 4,
 "nbformat_minor": 2
}
