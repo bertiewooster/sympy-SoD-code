y = symbols('y')
eq2 = solve([x**2 <= y
])
print(eq2)