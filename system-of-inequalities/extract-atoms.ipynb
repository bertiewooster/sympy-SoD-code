{
 "cells": [
  {
   "cell_type": "code",
   "execution_count": 11,
   "metadata": {},
   "outputs": [
    {
     "name": "stdout",
     "output_type": "stream",
     "text": [
      "[(x, '>=', 1/3), (x, '<=', sqrt(pi))]\n"
     ]
    }
   ],
   "source": [
    "from sympy import symbols, solve, Integer, pi\n",
    "from sympy.core.relational import Relational\n",
    "x = symbols('x')\n",
    "one_third = Integer(1)/Integer(3)\n",
    "eq = solve([x >= one_third, x**2 <= pi], x)\n",
    "eq\n",
    "#(1/3 <= x) & (x <= sqrt(pi))\n",
    "relations = [(i.lhs, i.rel_op, i.rhs) for i in [i.canonical for i in eq.atoms(Relational)]]\n",
    "# Sorting relations just to ensure consistent list order for docstring testing\n",
    "relations_sorted = sorted(relations, key=lambda x: float(x[2]))\n",
    "print(relations_sorted)\n",
    "#[(x, '>=', 1/3), (x, '<=', sqrt(pi))]\n"
   ]
  },
  {
   "cell_type": "code",
   "execution_count": 12,
   "metadata": {},
   "outputs": [
    {
     "data": {
      "text/latex": [
       "$\\displaystyle \\frac{1}{3} \\leq x \\wedge x \\leq \\sqrt{\\pi}$"
      ],
      "text/plain": [
       "(1/3 <= x) & (x <= sqrt(pi))"
      ]
     },
     "execution_count": 12,
     "metadata": {},
     "output_type": "execute_result"
    }
   ],
   "source": [
    "eq"
   ]
  }
 ],
 "metadata": {
  "kernelspec": {
   "display_name": "Python 3.9.7 ('base')",
   "language": "python",
   "name": "python3"
  },
  "language_info": {
   "codemirror_mode": {
    "name": "ipython",
    "version": 3
   },
   "file_extension": ".py",
   "mimetype": "text/x-python",
   "name": "python",
   "nbconvert_exporter": "python",
   "pygments_lexer": "ipython3",
   "version": "3.9.7"
  },
  "orig_nbformat": 4,
  "vscode": {
   "interpreter": {
    "hash": "a805e4787fe41e208b9e9ee3ee0be5f857b11e5edac61fba9adbad0693aa92c1"
   }
  }
 },
 "nbformat": 4,
 "nbformat_minor": 2
}
