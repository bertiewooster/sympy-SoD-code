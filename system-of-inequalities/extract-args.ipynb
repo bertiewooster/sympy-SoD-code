{
 "cells": [
  {
   "cell_type": "code",
   "execution_count": 30,
   "metadata": {},
   "outputs": [],
   "source": [
    "from sympy import symbols, solve, Integer, pi\n",
    "x = symbols('x')\n",
    "eq = solve([x >= Integer(1)/Integer(3), x**2 <= pi], x)"
   ]
  },
  {
   "cell_type": "code",
   "execution_count": 31,
   "metadata": {},
   "outputs": [
    {
     "data": {
      "text/plain": [
       "(1/3 <= x, x <= sqrt(pi))"
      ]
     },
     "execution_count": 31,
     "metadata": {},
     "output_type": "execute_result"
    }
   ],
   "source": [
    "eq.args\n",
    "#(1/3 <= x, x <= sqrt(pi))"
   ]
  },
  {
   "cell_type": "code",
   "execution_count": 32,
   "metadata": {},
   "outputs": [
    {
     "data": {
      "text/plain": [
       "[1/3, sqrt(pi)]"
      ]
     },
     "execution_count": 32,
     "metadata": {},
     "output_type": "execute_result"
    }
   ],
   "source": [
    "constants = []\n",
    "for arg in eq.args:\n",
    "    if arg.lhs == x:\n",
    "        constants.append(arg.rhs)\n",
    "    else:\n",
    "        constants.append(arg.lhs)\n",
    "constants\n",
    "#[1/3, sqrt(pi)]"
   ]
  },
  {
   "cell_type": "code",
   "execution_count": 33,
   "metadata": {},
   "outputs": [],
   "source": [
    "def extract_constants(r):\n",
    " i = r.as_set()\n",
    " fin =  '{l}{a}, {b}{r}'\n",
    " a,b,l,r = i.args\n",
    " l='[('[bool(l)]\n",
    " r='])'[bool(r)]\n",
    " return fin.format(**dict(zip('ablr', (a,b,l,r))))"
   ]
  },
  {
   "cell_type": "code",
   "execution_count": 34,
   "metadata": {},
   "outputs": [
    {
     "data": {
      "text/plain": [
       "'[1/3, sqrt(pi)]'"
      ]
     },
     "execution_count": 34,
     "metadata": {},
     "output_type": "execute_result"
    }
   ],
   "source": [
    "extract_constants(eq)"
   ]
  }
 ],
 "metadata": {
  "kernelspec": {
   "display_name": "Python 3.9.7 ('base')",
   "language": "python",
   "name": "python3"
  },
  "language_info": {
   "codemirror_mode": {
    "name": "ipython",
    "version": 3
   },
   "file_extension": ".py",
   "mimetype": "text/x-python",
   "name": "python",
   "nbconvert_exporter": "python",
   "pygments_lexer": "ipython3",
   "version": "3.9.7"
  },
  "orig_nbformat": 4,
  "vscode": {
   "interpreter": {
    "hash": "a805e4787fe41e208b9e9ee3ee0be5f857b11e5edac61fba9adbad0693aa92c1"
   }
  }
 },
 "nbformat": 4,
 "nbformat_minor": 2
}
