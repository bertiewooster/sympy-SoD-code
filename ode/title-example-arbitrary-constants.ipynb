{
 "cells": [
  {
   "cell_type": "code",
   "execution_count": 4,
   "metadata": {},
   "outputs": [
    {
     "data": {
      "text/latex": [
       "$\\displaystyle C_{1} \\sin{\\left(3 x \\right)} + C_{2} \\cos{\\left(3 x \\right)}$"
      ],
      "text/plain": [
       "C1*sin(3*x) + C2*cos(3*x)"
      ]
     },
     "execution_count": 4,
     "metadata": {},
     "output_type": "execute_result"
    }
   ],
   "source": [
    "from sympy import Function, dsolve, Derivative, symbols, pi\n",
    "x, C1, C2 = symbols(\"x, C1, C2\")\n",
    "y = Function('y')\n",
    "result = dsolve(Derivative(y(x), x, x) + 9*y(x), y(x)).rhs\n",
    "result\n",
    "#Eq(y(x), C1*sin(3*x) + C2*cos(3*x))"
   ]
  },
  {
   "cell_type": "code",
   "execution_count": 7,
   "metadata": {},
   "outputs": [
    {
     "data": {
      "text/latex": [
       "$\\displaystyle 7 \\sin{\\left(3 x \\right)} + \\pi \\cos{\\left(3 x \\right)}$"
      ],
      "text/plain": [
       "7*sin(3*x) + pi*cos(3*x)"
      ]
     },
     "execution_count": 7,
     "metadata": {},
     "output_type": "execute_result"
    }
   ],
   "source": [
    "result.subs({C1: 7, C2: pi})\n",
    "#7*sin(3*x) + pi*cos(3*x)"
   ]
  }
 ],
 "metadata": {
  "kernelspec": {
   "display_name": "Python 3.9.7 ('base')",
   "language": "python",
   "name": "python3"
  },
  "language_info": {
   "codemirror_mode": {
    "name": "ipython",
    "version": 3
   },
   "file_extension": ".py",
   "mimetype": "text/x-python",
   "name": "python",
   "nbconvert_exporter": "python",
   "pygments_lexer": "ipython3",
   "version": "3.9.7"
  },
  "orig_nbformat": 4,
  "vscode": {
   "interpreter": {
    "hash": "a805e4787fe41e208b9e9ee3ee0be5f857b11e5edac61fba9adbad0693aa92c1"
   }
  }
 },
 "nbformat": 4,
 "nbformat_minor": 2
}
