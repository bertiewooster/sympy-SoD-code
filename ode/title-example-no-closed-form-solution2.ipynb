{
 "cells": [
  {
   "cell_type": "code",
   "execution_count": 11,
   "metadata": {},
   "outputs": [
    {
     "data": {
      "text/latex": [
       "$\\displaystyle f{\\left(x \\right)} = C_{2} \\left(\\frac{a^{2} b^{2} c x^{4}}{3} + \\frac{a^{2} b^{2} x^{4} e^{d + e x}}{3} - \\frac{2 a b c x^{3}}{3} - \\frac{2 a b x^{3} e^{d + e x}}{3} + \\frac{a c x^{4}}{3} + \\frac{a x^{4} e^{d + e x}}{3} + \\frac{c^{2} x^{4}}{6} + \\frac{c x^{4} e^{d + e x}}{3} + c x^{2} + \\frac{x^{4} e^{2 d + 2 e x}}{6} + x^{2} e^{d + e x} + 1\\right) + C_{1} x \\left(- \\frac{a^{3} b^{3} x^{3}}{3} + \\frac{2 a^{2} b^{2} x^{2}}{3} - \\frac{a^{2} b x^{3}}{2} - \\frac{a b c x^{3}}{3} - \\frac{a b x^{3} e^{d + e x}}{3} - a b x + \\frac{a x^{2}}{3} + \\frac{c x^{2}}{3} + \\frac{x^{2} e^{d + e x}}{3} + 1\\right) + O\\left(x^{6}\\right)$"
      ],
      "text/plain": [
       "Eq(f(x), C2*(a**2*b**2*c*x**4/3 + a**2*b**2*x**4*exp(d + e*x)/3 - 2*a*b*c*x**3/3 - 2*a*b*x**3*exp(d + e*x)/3 + a*c*x**4/3 + a*x**4*exp(d + e*x)/3 + c**2*x**4/6 + c*x**4*exp(d + e*x)/3 + c*x**2 + x**4*exp(2*d + 2*e*x)/6 + x**2*exp(d + e*x) + 1) + C1*x*(-a**3*b**3*x**3/3 + 2*a**2*b**2*x**2/3 - a**2*b*x**3/2 - a*b*c*x**3/3 - a*b*x**3*exp(d + e*x)/3 - a*b*x + a*x**2/3 + c*x**2/3 + x**2*exp(d + e*x)/3 + 1) + O(x**6))"
      ]
     },
     "execution_count": 11,
     "metadata": {},
     "output_type": "execute_result"
    }
   ],
   "source": [
    "from sympy import Function, dsolve, Derivative, symbols, exp\n",
    "f = symbols(\"f\", cls=Function)\n",
    "x, a, b, c, d, e = symbols(\"x, a, b, c, d, e\")\n",
    "dsolve(Derivative(f(x), x, x) / 2 + a * (b - x)*Derivative(f(x), x) - (c + exp(d + e * x)) * (f(x)), f(x))\n",
    "\n",
    "# Traceback (most recent call last):\n",
    "#     ...\n",
    "# NotImplementedError: solve: Cannot solve -y(x)**2 + Derivative(y(x), (x, 3))"
   ]
  }
 ],
 "metadata": {
  "kernelspec": {
   "display_name": "Python 3.9.7 ('base')",
   "language": "python",
   "name": "python3"
  },
  "language_info": {
   "codemirror_mode": {
    "name": "ipython",
    "version": 3
   },
   "file_extension": ".py",
   "mimetype": "text/x-python",
   "name": "python",
   "nbconvert_exporter": "python",
   "pygments_lexer": "ipython3",
   "version": "3.9.7"
  },
  "orig_nbformat": 4,
  "vscode": {
   "interpreter": {
    "hash": "a805e4787fe41e208b9e9ee3ee0be5f857b11e5edac61fba9adbad0693aa92c1"
   }
  }
 },
 "nbformat": 4,
 "nbformat_minor": 2
}
