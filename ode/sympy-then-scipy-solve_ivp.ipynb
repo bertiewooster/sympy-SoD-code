{
 "cells": [
  {
   "cell_type": "code",
   "execution_count": 1,
   "metadata": {},
   "outputs": [
    {
     "data": {
      "text/plain": [
       "  message: 'The solver successfully reached the end of the integration interval.'\n",
       "     nfev: 68\n",
       "     njev: 0\n",
       "      nlu: 0\n",
       "      sol: None\n",
       "   status: 0\n",
       "  success: True\n",
       "        t: array([0.00000000e+00, 1.68190462e-03, 1.85009508e-02, 1.86691413e-01,\n",
       "       6.37253319e-01, 1.27438822e+00, 2.15637690e+00, 3.28555351e+00,\n",
       "       4.69240977e+00, 6.45455786e+00, 8.73068099e+00, 1.00000000e+01])\n",
       " t_events: None\n",
       "        y: array([[1.        , 0.99858969, 0.98475531, 0.86889862, 0.68120238,\n",
       "        0.55390608, 0.47951256, 0.44569558, 0.43354565, 0.43020361,\n",
       "        0.42955182, 0.4294468 ],\n",
       "       [1.        , 0.99929485, 0.99237766, 0.93444931, 0.84060119,\n",
       "        0.77695304, 0.73975628, 0.72284779, 0.71677282, 0.71510181,\n",
       "        0.71477591, 0.7147234 ],\n",
       "       [0.        , 0.00141031, 0.01524469, 0.13110138, 0.31879762,\n",
       "        0.44609392, 0.52048744, 0.55430442, 0.56645435, 0.56979639,\n",
       "        0.57044818, 0.5705532 ]])\n",
       " y_events: None"
      ]
     },
     "execution_count": 1,
     "metadata": {},
     "output_type": "execute_result"
    }
   ],
   "source": [
    "from sympy import symbols, lambdify\n",
    "import numpy as np\n",
    "import scipy.integrate\n",
    "def rhs(t, y, kf, kb):\n",
    "    rf = kf * y[0]**2 * y[1]\n",
    "    rb = kb * y[2]**2\n",
    "    return [2*(rb - rf), rb - rf, 2*(rf - rb)]\n",
    "y, (kf, kb) = symbols('y:3'), symbols('kf kb')\n",
    "ydot = rhs(None, y, kf, kb)\n",
    "t = symbols('t')\n",
    "f = lambdify((t, y, kf, kb), ydot)\n",
    "k_vals = np.array([0.42, 0.17])\n",
    "y0 = [1, 1, 0]\n",
    "scipy.integrate.solve_ivp(f, (0, 10), y0, args=k_vals)"
   ]
  }
 ],
 "metadata": {
  "kernelspec": {
   "display_name": "Python 3.9.7",
   "language": "python",
   "name": "python3"
  },
  "language_info": {
   "codemirror_mode": {
    "name": "ipython",
    "version": 3
   },
   "file_extension": ".py",
   "mimetype": "text/x-python",
   "name": "python",
   "nbconvert_exporter": "python",
   "pygments_lexer": "ipython3",
   "version": "3.9.7"
  },
  "orig_nbformat": 4,
  "vscode": {
   "interpreter": {
    "hash": "a805e4787fe41e208b9e9ee3ee0be5f857b11e5edac61fba9adbad0693aa92c1"
   }
  }
 },
 "nbformat": 4,
 "nbformat_minor": 2
}
