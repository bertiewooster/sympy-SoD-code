{
 "cells": [
  {
   "cell_type": "code",
   "execution_count": 10,
   "metadata": {},
   "outputs": [
    {
     "data": {
      "text/plain": [
       "[2*kb*y2**2 - 2*kf*y0**2*y1,\n",
       " kb*y2**2 - kf*y0**2*y1,\n",
       " -2*kb*y2**2 + 2*kf*y0**2*y1]"
      ]
     },
     "execution_count": 10,
     "metadata": {},
     "output_type": "execute_result"
    }
   ],
   "source": [
    "from sympy import symbols, lambdify\n",
    "import numpy as np\n",
    "import scipy.integrate\n",
    "y, (kf, kb) = symbols('y:3'), symbols('kf kb')\n",
    "rf = kf * y[0]**2 * y[1]\n",
    "rb = kb * y[2]**2\n",
    "ydot = [2*(rb - rf), rb - rf, 2*(rf - rb)] # derivative of the function y(t); value given by function rhs (right-hand side) for input values y, kf, and kb\n",
    "ydot\n",
    "# [2*kb*y2**2 - 2*kf*y0**2*y1, kb*y2**2 - kf*y0**2*y1, -2*kb*y2**2 + 2*kf*y0**2*y1]"
   ]
  },
  {
   "cell_type": "code",
   "execution_count": 11,
   "metadata": {},
   "outputs": [
    {
     "data": {
      "text/plain": [
       "  message: 'The solver successfully reached the end of the integration interval.'\n",
       "     nfev: 68\n",
       "     njev: 0\n",
       "      nlu: 0\n",
       "      sol: None\n",
       "   status: 0\n",
       "  success: True\n",
       "        t: array([ 0.        ,  0.20408163,  0.40816327,  0.6122449 ,  0.81632653,\n",
       "        1.02040816,  1.2244898 ,  1.42857143,  1.63265306,  1.83673469,\n",
       "        2.04081633,  2.24489796,  2.44897959,  2.65306122,  2.85714286,\n",
       "        3.06122449,  3.26530612,  3.46938776,  3.67346939,  3.87755102,\n",
       "        4.08163265,  4.28571429,  4.48979592,  4.69387755,  4.89795918,\n",
       "        5.10204082,  5.30612245,  5.51020408,  5.71428571,  5.91836735,\n",
       "        6.12244898,  6.32653061,  6.53061224,  6.73469388,  6.93877551,\n",
       "        7.14285714,  7.34693878,  7.55102041,  7.75510204,  7.95918367,\n",
       "        8.16326531,  8.36734694,  8.57142857,  8.7755102 ,  8.97959184,\n",
       "        9.18367347,  9.3877551 ,  9.59183673,  9.79591837, 10.        ])\n",
       " t_events: None\n",
       "        y: array([[1.        , 0.8588458 , 0.76037109, 0.68865638, 0.63448858,\n",
       "        0.59298188, 0.56070716, 0.53512394, 0.51478622, 0.49863364,\n",
       "        0.48571594, 0.47520885, 0.4666383 , 0.45971742, 0.45416064,\n",
       "        0.44968802, 0.44602514, 0.4429604 , 0.44043698, 0.4383935 ,\n",
       "        0.43676122, 0.43546445, 0.43442049, 0.43353967, 0.43277066,\n",
       "        0.43212494, 0.43159916, 0.43118497, 0.43086892, 0.43063257,\n",
       "        0.43045243, 0.43029995, 0.43014456, 0.42999498, 0.42986356,\n",
       "        0.42975504, 0.42967192, 0.42961451, 0.42958085, 0.42956676,\n",
       "        0.42956583, 0.42956944, 0.42956671, 0.42954545, 0.42951959,\n",
       "        0.4294984 , 0.42948121, 0.42946735, 0.42945611, 0.4294468 ],\n",
       "       [1.        , 0.9294229 , 0.88018554, 0.84432819, 0.81724429,\n",
       "        0.79649094, 0.78035358, 0.76756197, 0.75739311, 0.74931682,\n",
       "        0.74285797, 0.73760443, 0.73331915, 0.72985871, 0.72708032,\n",
       "        0.72484401, 0.72301257, 0.7214802 , 0.72021849, 0.71919675,\n",
       "        0.71838061, 0.71773223, 0.71721025, 0.71676983, 0.71638533,\n",
       "        0.71606247, 0.71579958, 0.71559248, 0.71543446, 0.71531629,\n",
       "        0.71522621, 0.71514997, 0.71507228, 0.71499749, 0.71493178,\n",
       "        0.71487752, 0.71483596, 0.71480726, 0.71479042, 0.71478338,\n",
       "        0.71478292, 0.71478472, 0.71478335, 0.71477272, 0.71475979,\n",
       "        0.7147492 , 0.71474061, 0.71473367, 0.71472805, 0.7147234 ],\n",
       "       [0.        , 0.1411542 , 0.23962891, 0.31134362, 0.36551142,\n",
       "        0.40701812, 0.43929284, 0.46487606, 0.48521378, 0.50136636,\n",
       "        0.51428406, 0.52479115, 0.5333617 , 0.54028258, 0.54583936,\n",
       "        0.55031198, 0.55397486, 0.5570396 , 0.55956302, 0.5616065 ,\n",
       "        0.56323878, 0.56453555, 0.56557951, 0.56646033, 0.56722934,\n",
       "        0.56787506, 0.56840084, 0.56881503, 0.56913108, 0.56936743,\n",
       "        0.56954757, 0.56970005, 0.56985544, 0.57000502, 0.57013644,\n",
       "        0.57024496, 0.57032808, 0.57038549, 0.57041915, 0.57043324,\n",
       "        0.57043417, 0.57043056, 0.57043329, 0.57045455, 0.57048041,\n",
       "        0.5705016 , 0.57051879, 0.57053265, 0.57054389, 0.5705532 ]])\n",
       " y_events: None"
      ]
     },
     "execution_count": 11,
     "metadata": {},
     "output_type": "execute_result"
    }
   ],
   "source": [
    "t = symbols('t') # not used in this case\n",
    "f = lambdify((t, y, kf, kb), ydot) # convert the SymPy symbolic expression for ydot into a form that SciPy can evaluate numerically, f\n",
    "k_vals = np.array([0.42, 0.17]) # arbitrary in this case\n",
    "y0 = [1, 1, 0] # initial condition (initial values)\n",
    "t_eval = np.linspace(0, 10, 50) # evaluate integral from t = 0-10 for 50 points\n",
    "solution = scipy.integrate.solve_ivp(f, (0, 10), y0, t_eval=t_eval, args=k_vals) # call SciPy's solve_ivp by passing it the function f, the interval of integration, the initial state, and the arguments to pass to the function f\n",
    "solution"
   ]
  },
  {
   "cell_type": "code",
   "execution_count": 12,
   "metadata": {},
   "outputs": [
    {
     "data": {
      "text/plain": [
       "[<matplotlib.lines.Line2D at 0x7fa56272e370>,\n",
       " <matplotlib.lines.Line2D at 0x7fa56272e3a0>,\n",
       " <matplotlib.lines.Line2D at 0x7fa56272e4c0>]"
      ]
     },
     "execution_count": 12,
     "metadata": {},
     "output_type": "execute_result"
    },
    {
     "data": {
      "image/png": "[encoded data removed]",
      "text/plain": [
       "<Figure size 432x288 with 1 Axes>"
      ]
     },
     "metadata": {
      "needs_background": "light"
     },
     "output_type": "display_data"
    }
   ],
   "source": [
    "import matplotlib.pyplot as plt\n",
    "y = solution.y # Extract the y (concentration) values from SciPy solution result\n",
    "plt.plot(t_eval, y.T) # Plot concentrations against time. doctest: +SKIP\n",
    "# plt.xlabel('t') # Label the x axis as t. doctest: +SKIP\n",
    "# plt.ylabel('Concentration') # Label the y axis as concentration. doctest: +SKIP\n",
    "# plt.legend(['NO', 'Br$_2$', 'NOBr'], shadow=True) # Add a legend with the chemical formulas. doctest: +SKIP\n",
    "# plt.title('Chemical Kinetics') # Title the plot. doctest: +SKIP\n",
    "# plt.show() # Display the plot"
   ]
  }
 ],
 "metadata": {
  "kernelspec": {
   "display_name": "Python 3.9.7",
   "language": "python",
   "name": "python3"
  },
  "language_info": {
   "codemirror_mode": {
    "name": "ipython",
    "version": 3
   },
   "file_extension": ".py",
   "mimetype": "text/x-python",
   "name": "python",
   "nbconvert_exporter": "python",
   "pygments_lexer": "ipython3",
   "version": "3.9.7"
  },
  "orig_nbformat": 4,
  "vscode": {
   "interpreter": {
    "hash": "a805e4787fe41e208b9e9ee3ee0be5f857b11e5edac61fba9adbad0693aa92c1"
   }
  }
 },
 "nbformat": 4,
 "nbformat_minor": 2
}
