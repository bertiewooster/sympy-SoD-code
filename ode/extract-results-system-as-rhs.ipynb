{
 "cells": [
  {
   "cell_type": "code",
   "execution_count": 1,
   "metadata": {},
   "outputs": [
    {
     "data": {
      "text/plain": [
       "[[Eq(y(x), C1 - C2*exp(x)), Eq(z(x), C2*exp(x))],\n",
       " [Eq(y(x), C1 + C2*exp(x)), Eq(z(x), C2*exp(x))]]"
      ]
     },
     "execution_count": 1,
     "metadata": {},
     "output_type": "execute_result"
    }
   ],
   "source": [
    "from sympy import symbols, Eq, Function, dsolve\n",
    "y, z = symbols(\"y z\", cls=Function)\n",
    "x = symbols(\"x\")\n",
    "eqs = [Eq(y(x).diff(x)**2, z(x)**2), Eq(z(x).diff(x), z(x))]\n",
    "solutions = dsolve(eqs, [y(x), z(x)])\n",
    "solutions\n",
    "#[[Eq(y(x), C1 - C2*exp(x)), Eq(z(x), C2*exp(x))], [Eq(y(x), C1 + C2*exp(x)), Eq(z(x), C2*exp(x))]]"
   ]
  },
  {
   "cell_type": "code",
   "execution_count": 68,
   "metadata": {},
   "outputs": [
    {
     "data": {
      "text/plain": [
       "[{y(x): C1 - C2*exp(x), z(x): C2*exp(x)},\n",
       " {y(x): C1 + C2*exp(x), z(x): C2*exp(x)}]"
      ]
     },
     "execution_count": 68,
     "metadata": {},
     "output_type": "execute_result"
    }
   ],
   "source": [
    "solutions_list = [] # nested list approach\n",
    "for solution in solutions:\n",
    "    solution_dict = {}\n",
    "    for fn in solution:\n",
    "        solution_dict.update({fn.lhs: fn.rhs})\n",
    "    solutions_list.append(solution_dict)\n",
    "solutions_list\n",
    "#[{y(x): C1 - C2*exp(x), z(x): C2*exp(x)}, {y(x): C1 + C2*exp(x), z(x): C2*exp(x)}]"
   ]
  },
  {
   "cell_type": "code",
   "execution_count": 69,
   "metadata": {},
   "outputs": [
    {
     "data": {
      "text/plain": [
       "[{y(x): C1 - C2*exp(x), z(x): C2*exp(x)},\n",
       " {y(x): C1 + C2*exp(x), z(x): C2*exp(x)}]"
      ]
     },
     "execution_count": 69,
     "metadata": {},
     "output_type": "execute_result"
    }
   ],
   "source": [
    "solutions_list = [{fn.lhs:fn.rhs for fn in solution} for solution in solutions]\n",
    "solutions_list # nested comprehension approach\n",
    "#[{y(x): C1 - C2*exp(x), z(x): C2*exp(x)}, {y(x): C1 + C2*exp(x), z(x): C2*exp(x)}]"
   ]
  },
  {
   "cell_type": "code",
   "execution_count": 70,
   "metadata": {},
   "outputs": [
    {
     "data": {
      "text/latex": [
       "$\\displaystyle C_{1} - C_{2} e^{x}$"
      ],
      "text/plain": [
       "C1 - C2*exp(x)"
      ]
     },
     "execution_count": 70,
     "metadata": {},
     "output_type": "execute_result"
    }
   ],
   "source": [
    "solutions_list[0][y(x)]\n",
    "#C1 - C2*exp(x)"
   ]
  }
 ],
 "metadata": {
  "kernelspec": {
   "display_name": "Python 3.9.7 ('base')",
   "language": "python",
   "name": "python3"
  },
  "language_info": {
   "codemirror_mode": {
    "name": "ipython",
    "version": 3
   },
   "file_extension": ".py",
   "mimetype": "text/x-python",
   "name": "python",
   "nbconvert_exporter": "python",
   "pygments_lexer": "ipython3",
   "version": "3.9.7"
  },
  "orig_nbformat": 4,
  "vscode": {
   "interpreter": {
    "hash": "a805e4787fe41e208b9e9ee3ee0be5f857b11e5edac61fba9adbad0693aa92c1"
   }
  }
 },
 "nbformat": 4,
 "nbformat_minor": 2
}
